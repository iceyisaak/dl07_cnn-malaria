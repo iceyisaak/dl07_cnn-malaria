{
  "cells": [
    {
      "cell_type": "markdown",
      "metadata": {
        "id": "jkdLdV8Dsl88"
      },
      "source": [
        "___\n",
        "\n",
        "<p style=\"text-align: center;\"><img src=\"https://docs.google.com/uc?id=1lY0Uj5R04yMY3-ZppPWxqCr5pvBLYPnV\" class=\"img-fluid\" alt=\"CLRSWY\"></p>\n",
        "\n",
        "___"
      ]
    },
    {
      "cell_type": "markdown",
      "metadata": {
        "id": "CqyKl6OBsl9A"
      },
      "source": [
        "<h1 style=\"text-align: center;\">Deep Learning<br><br>Session - 7<br><br>Image Classification with CNN<br><br>Malaria Data<br><h1>"
      ]
    },
    {
      "cell_type": "markdown",
      "metadata": {
        "id": "NgJ-_SBHsl9B"
      },
      "source": [
        "\n",
        "# Dataset Info\n",
        "\n",
        "The dataset contains 2 folders - 'parasitized', 'uninfected'\n",
        "\n",
        "And a total of 27,558 images.\n",
        "\n",
        "This Dataset is taken from the official NIH Website: https://ceb.nlm.nih.gov/repositories/malaria-datasets/"
      ]
    },
    {
      "cell_type": "markdown",
      "metadata": {
        "id": "CMrNns6kobX7"
      },
      "source": [
        "# Import Libraries and Export Images from Zip_File"
      ]
    },
    {
      "cell_type": "code",
      "execution_count": 116,
      "metadata": {
        "colab": {
          "base_uri": "https://localhost:8080/"
        },
        "id": "aICDGC8upFRV",
        "outputId": "d3be8a44-e124-494f-c8b5-2df135002216"
      },
      "outputs": [
        {
          "name": "stdout",
          "output_type": "stream",
          "text": [
            "You can safely ignore this message.\n"
          ]
        }
      ],
      "source": [
        "try:\n",
        "    import jupyter_black\n",
        "    jupyter_black.load()\n",
        "except ImportError:\n",
        "    print(\"You can safely ignore this message.\")"
      ]
    },
    {
      "cell_type": "code",
      "execution_count": 1,
      "metadata": {
        "id": "0kOY480JpFRX"
      },
      "outputs": [],
      "source": [
        "import os\n",
        "\n",
        "os.environ[\"TF_CPP_MIN_LOG_LEVEL\"] = \"1\""
      ]
    },
    {
      "cell_type": "code",
      "execution_count": 2,
      "metadata": {
        "id": "ULUCJSJzsl9C"
      },
      "outputs": [],
      "source": [
        "import os\n",
        "import numpy as np\n",
        "import pandas as pd\n",
        "import matplotlib.pyplot as plt\n",
        "import seaborn as sns\n",
        "from matplotlib.image import imread\n",
        "from tensorflow import keras\n",
        "\n",
        "# import warnings\n",
        "# warnings.filterwarnings(\"ignore\")\n",
        "# warnings.warn(\"this will not show\")\n",
        "\n",
        "plt.rcParams[\"figure.figsize\"] = (10, 6)\n",
        "\n",
        "sns.set_style(\"whitegrid\")\n",
        "pd.set_option(\"display.float_format\", lambda x: \"%.3f\" % x)\n",
        "\n",
        "# Set it None to display all rows in the dataframe\n",
        "# pd.set_option('display.max_rows', None)\n",
        "\n",
        "# Set it to None to display all columns in the dataframe\n",
        "pd.set_option(\"display.max_columns\", None)"
      ]
    },
    {
      "cell_type": "code",
      "execution_count": 3,
      "metadata": {
        "colab": {
          "base_uri": "https://localhost:8080/"
        },
        "id": "eBfqbn-TgoA4",
        "outputId": "5d97bc49-c677-42fe-a7b4-9390cb75c1ac"
      },
      "outputs": [
        {
          "name": "stdout",
          "output_type": "stream",
          "text": [
            "CPU will be used for this session.\n"
          ]
        }
      ],
      "source": [
        "import tensorflow as tf\n",
        "\n",
        "if tf.config.list_physical_devices(\"GPU\"):\n",
        "    print(\"GPU support is enabled for this session.\")\n",
        "else:\n",
        "    print(\"CPU will be used for this session.\")"
      ]
    },
    {
      "cell_type": "code",
      "execution_count": 4,
      "metadata": {
        "id": "reaDVKZTOTEL"
      },
      "outputs": [],
      "source": [
        "# Set the seed using keras.utils.set_random_seed. This will set:\n",
        "# 1) `numpy` seed\n",
        "# 2) `tensorflow` random seed\n",
        "# 3) `python` random seed\n",
        "SEED = 42\n",
        "keras.utils.set_random_seed(SEED)\n",
        "\n",
        "# This will make TensorFlow ops as deterministic as possible, but it will\n",
        "# affect the overall performance, so it's not enabled by default.\n",
        "# `enable_op_determinism()` is introduced in TensorFlow 2.9.\n",
        "tf.config.experimental.enable_op_determinism()"
      ]
    },
    {
      "cell_type": "code",
      "execution_count": 5,
      "metadata": {
        "colab": {
          "base_uri": "https://localhost:8080/"
        },
        "id": "GnnB7Iigsl9E",
        "outputId": "71e6a108-9cbd-4311-dd48-21c05daec5a3"
      },
      "outputs": [],
      "source": [
        "# from google.colab import drive\n",
        "# drive.mount('/content/drive')"
      ]
    },
    {
      "cell_type": "code",
      "execution_count": 6,
      "metadata": {
        "id": "HKxrKtV5H77z"
      },
      "outputs": [],
      "source": [
        "import zipfile\n",
        "\n",
        "# Unzip the file\n",
        "# zip_ref = zipfile.ZipFile(\"/content/drive/MyDrive/Colab Notebooks/cell_images.zip\", \"r\")\n",
        "zip_ref = zipfile.ZipFile('./cell_images.zip')\n",
        "zip_ref.extractall()\n",
        "zip_ref.close()"
      ]
    },
    {
      "cell_type": "markdown",
      "metadata": {
        "id": "YTyh7iXXsl9E"
      },
      "source": [
        "# Recognizing and Understanding Data"
      ]
    },
    {
      "cell_type": "code",
      "execution_count": 7,
      "metadata": {
        "id": "BxDyRgOYdiDB"
      },
      "outputs": [],
      "source": [
        "my_data_dir = \"cell_images\""
      ]
    },
    {
      "cell_type": "code",
      "execution_count": 8,
      "metadata": {
        "colab": {
          "base_uri": "https://localhost:8080/"
        },
        "id": "AQVM6TYWsl9G",
        "outputId": "cddfdec2-dad2-4a89-dc2f-592d06c03407"
      },
      "outputs": [
        {
          "data": {
            "text/plain": [
              "['test', 'train']"
            ]
          },
          "execution_count": 8,
          "metadata": {},
          "output_type": "execute_result"
        }
      ],
      "source": [
        "# CONFIRM THAT THIS REPORTS BACK 'test', and 'train'\n",
        "os.listdir(my_data_dir)"
      ]
    },
    {
      "cell_type": "code",
      "execution_count": 9,
      "metadata": {
        "id": "Chik3r8Ysl9H"
      },
      "outputs": [],
      "source": [
        "test_path = os.path.join(my_data_dir, \"test\")\n",
        "train_path = os.path.join(my_data_dir, \"train\")"
      ]
    },
    {
      "cell_type": "code",
      "execution_count": 10,
      "metadata": {
        "colab": {
          "base_uri": "https://localhost:8080/"
        },
        "id": "hO_ct-D3sl9H",
        "outputId": "26d3a16c-7808-421f-ee74-e24708de522f"
      },
      "outputs": [
        {
          "data": {
            "text/plain": [
              "['parasitized', 'uninfected']"
            ]
          },
          "execution_count": 10,
          "metadata": {},
          "output_type": "execute_result"
        }
      ],
      "source": [
        "os.listdir(test_path)"
      ]
    },
    {
      "cell_type": "code",
      "execution_count": 11,
      "metadata": {
        "colab": {
          "base_uri": "https://localhost:8080/"
        },
        "id": "QN6kB1Ezsl9I",
        "outputId": "21ab23e9-573e-4205-e2c4-aa3d3251afdb"
      },
      "outputs": [
        {
          "data": {
            "text/plain": [
              "['parasitized', 'uninfected']"
            ]
          },
          "execution_count": 11,
          "metadata": {},
          "output_type": "execute_result"
        }
      ],
      "source": [
        "os.listdir(train_path)"
      ]
    },
    {
      "cell_type": "code",
      "execution_count": 12,
      "metadata": {
        "colab": {
          "base_uri": "https://localhost:8080/"
        },
        "id": "eC4GUi8Jp8Rq",
        "outputId": "4bf7f658-2cb7-4996-9d37-804325970aca"
      },
      "outputs": [
        {
          "data": {
            "text/plain": [
              "['parasitized', 'uninfected']"
            ]
          },
          "execution_count": 12,
          "metadata": {},
          "output_type": "execute_result"
        }
      ],
      "source": [
        "classes = os.listdir(train_path)\n",
        "classes"
      ]
    },
    {
      "cell_type": "code",
      "execution_count": 13,
      "metadata": {
        "colab": {
          "base_uri": "https://localhost:8080/"
        },
        "id": "AYrKX5pqe8Ky",
        "outputId": "d90d3ce9-0ecd-498a-df5f-f28a5d4cbaf6"
      },
      "outputs": [
        {
          "name": "stdout",
          "output_type": "stream",
          "text": [
            "['parasitized' 'uninfected']\n"
          ]
        }
      ],
      "source": [
        "import pathlib\n",
        "\n",
        "data_dir = pathlib.Path(train_path)  # turn our training path into a Python path\n",
        "class_names = np.array(sorted([item.name for item in data_dir.glob(\"*\")]))\n",
        "# created a list of class_names from the subdirectories\n",
        "print(class_names)"
      ]
    },
    {
      "cell_type": "code",
      "execution_count": 14,
      "metadata": {
        "colab": {
          "base_uri": "https://localhost:8080/"
        },
        "id": "17L-4uqGptMS",
        "outputId": "30f74a14-cef2-4eaa-a36d-f0fa49912a14"
      },
      "outputs": [
        {
          "data": {
            "text/plain": [
              "array(['parasitized', 'uninfected'], dtype='<U11')"
            ]
          },
          "execution_count": 14,
          "metadata": {},
          "output_type": "execute_result"
        }
      ],
      "source": [
        "class_names"
      ]
    },
    {
      "cell_type": "markdown",
      "metadata": {
        "id": "mFVLtsmLsl9N"
      },
      "source": [
        "**Let's check how many images there are.**"
      ]
    },
    {
      "cell_type": "code",
      "execution_count": 15,
      "metadata": {
        "colab": {
          "base_uri": "https://localhost:8080/"
        },
        "id": "uYCWoVG1qPNo",
        "outputId": "964bc97c-04db-4349-add4-0355b2136965"
      },
      "outputs": [
        {
          "data": {
            "text/plain": [
              "['C189P150ThinF_IMG_20151203_142224_cell_84.png',\n",
              " 'C91P52ThinF_IMG_20150821_123116_cell_189.png',\n",
              " 'C84P45ThinF_IMG_20150818_101226_cell_98.png',\n",
              " 'C144P105ThinF_IMG_20151015_163432_cell_310.png',\n",
              " 'C136P97ThinF_IMG_20151005_141803_cell_131.png']"
            ]
          },
          "execution_count": 15,
          "metadata": {},
          "output_type": "execute_result"
        }
      ],
      "source": [
        "os.listdir(os.path.join(train_path, \"parasitized\"))[:5]"
      ]
    },
    {
      "cell_type": "code",
      "execution_count": 16,
      "metadata": {
        "colab": {
          "base_uri": "https://localhost:8080/"
        },
        "id": "U3zWAaJRsl9N",
        "outputId": "b639af4b-bae1-4ebb-dda0-25973017c79a"
      },
      "outputs": [
        {
          "data": {
            "text/plain": [
              "(12479, 12479)"
            ]
          },
          "execution_count": 16,
          "metadata": {},
          "output_type": "execute_result"
        }
      ],
      "source": [
        "len(os.listdir(os.path.join(train_path, \"parasitized\"))), len(\n",
        "    os.listdir(os.path.join(train_path, \"uninfected\"))\n",
        ")"
      ]
    },
    {
      "cell_type": "code",
      "execution_count": 17,
      "metadata": {
        "colab": {
          "base_uri": "https://localhost:8080/"
        },
        "id": "pQluIckosl9O",
        "outputId": "442ef448-c2e0-4947-a239-abd5ff198233"
      },
      "outputs": [
        {
          "data": {
            "text/plain": [
              "(1300, 1300)"
            ]
          },
          "execution_count": 17,
          "metadata": {},
          "output_type": "execute_result"
        }
      ],
      "source": [
        "len(os.listdir(os.path.join(test_path, \"parasitized\"))), len(\n",
        "    os.listdir(os.path.join(test_path, \"uninfected\"))\n",
        ")"
      ]
    },
    {
      "cell_type": "code",
      "execution_count": 18,
      "metadata": {
        "colab": {
          "base_uri": "https://localhost:8080/"
        },
        "id": "nz_3zdr4avaP",
        "outputId": "613c5f9d-7aed-42a9-ba34-6d2bc8690683"
      },
      "outputs": [
        {
          "name": "stdout",
          "output_type": "stream",
          "text": [
            "There are 2 directories and 0 images in 'cell_images'.\n",
            "There are 2 directories and 0 images in 'cell_images/test'.\n",
            "There are 0 directories and 1300 images in 'cell_images/test/parasitized'.\n",
            "There are 0 directories and 1300 images in 'cell_images/test/uninfected'.\n",
            "There are 2 directories and 0 images in 'cell_images/train'.\n",
            "There are 0 directories and 12479 images in 'cell_images/train/parasitized'.\n",
            "There are 0 directories and 12479 images in 'cell_images/train/uninfected'.\n"
          ]
        }
      ],
      "source": [
        "# Walk through cell_images directory and list number of files\n",
        "for dirpath, dirnames, filenames in os.walk(my_data_dir):\n",
        "    print(\n",
        "        f\"There are {len(dirnames)} directories and {len(filenames)} images in '{dirpath}'.\"\n",
        "    )"
      ]
    },
    {
      "cell_type": "markdown",
      "metadata": {
        "id": "2docX2FutRHv"
      },
      "source": [
        "**Let's take an example images from both train-parasitized and train-uninfected folders to observe process**"
      ]
    },
    {
      "cell_type": "code",
      "execution_count": 19,
      "metadata": {
        "colab": {
          "base_uri": "https://localhost:8080/"
        },
        "id": "wUZcZtQWsl9I",
        "outputId": "a9d1fa0b-74de-4dd8-9e43-1f28a96dd2ad"
      },
      "outputs": [
        {
          "data": {
            "text/plain": [
              "['C189P150ThinF_IMG_20151203_142224_cell_84.png',\n",
              " 'C91P52ThinF_IMG_20150821_123116_cell_189.png',\n",
              " 'C84P45ThinF_IMG_20150818_101226_cell_98.png',\n",
              " 'C144P105ThinF_IMG_20151015_163432_cell_310.png',\n",
              " 'C136P97ThinF_IMG_20151005_141803_cell_131.png',\n",
              " 'C60P21thinF_IMG_20150804_105034_cell_105.png',\n",
              " 'C176P137NThinF_IMG_20151201_122708_cell_126.png',\n",
              " 'C136P97ThinF_IMG_20151005_142437_cell_119.png',\n",
              " 'C173P134NThinF_IMG_20151130_115733_cell_227.png',\n",
              " 'C85P46ThinF_IMG_20150820_105154_cell_221.png']"
            ]
          },
          "execution_count": 19,
          "metadata": {},
          "output_type": "execute_result"
        }
      ],
      "source": [
        "os.listdir(os.path.join(train_path, \"parasitized\"))[:10]"
      ]
    },
    {
      "cell_type": "code",
      "execution_count": 20,
      "metadata": {
        "colab": {
          "base_uri": "https://localhost:8080/",
          "height": 35
        },
        "id": "90IdG6knsl9J",
        "outputId": "a68c9773-895a-4260-be47-0a594d148422"
      },
      "outputs": [
        {
          "data": {
            "text/plain": [
              "'C60P21thinF_IMG_20150804_105034_cell_105.png'"
            ]
          },
          "execution_count": 20,
          "metadata": {},
          "output_type": "execute_result"
        }
      ],
      "source": [
        "os.listdir(os.path.join(train_path, \"parasitized\"))[5]"
      ]
    },
    {
      "cell_type": "code",
      "execution_count": 21,
      "metadata": {
        "id": "rKvIiLAssl9J"
      },
      "outputs": [],
      "source": [
        "para_cell_path = os.path.join(\n",
        "    train_path, \"parasitized\", os.listdir(os.path.join(train_path, \"parasitized\"))[5]\n",
        ")"
      ]
    },
    {
      "cell_type": "code",
      "execution_count": 22,
      "metadata": {
        "colab": {
          "base_uri": "https://localhost:8080/",
          "height": 35
        },
        "id": "L5V2hllmsl9J",
        "outputId": "4833d1a6-289e-431c-881b-6c2cdf0bbc87"
      },
      "outputs": [
        {
          "data": {
            "text/plain": [
              "'cell_images/train/parasitized/C60P21thinF_IMG_20150804_105034_cell_105.png'"
            ]
          },
          "execution_count": 22,
          "metadata": {},
          "output_type": "execute_result"
        }
      ],
      "source": [
        "para_cell_path"
      ]
    },
    {
      "cell_type": "code",
      "execution_count": 23,
      "metadata": {
        "colab": {
          "base_uri": "https://localhost:8080/"
        },
        "id": "bgtb1aRfsl9K",
        "outputId": "be8791e5-e301-4244-a9fa-a25811b57497"
      },
      "outputs": [
        {
          "data": {
            "text/plain": [
              "array([[[0., 0., 0.],\n",
              "        [0., 0., 0.],\n",
              "        [0., 0., 0.],\n",
              "        ...,\n",
              "        [0., 0., 0.],\n",
              "        [0., 0., 0.],\n",
              "        [0., 0., 0.]],\n",
              "\n",
              "       [[0., 0., 0.],\n",
              "        [0., 0., 0.],\n",
              "        [0., 0., 0.],\n",
              "        ...,\n",
              "        [0., 0., 0.],\n",
              "        [0., 0., 0.],\n",
              "        [0., 0., 0.]],\n",
              "\n",
              "       [[0., 0., 0.],\n",
              "        [0., 0., 0.],\n",
              "        [0., 0., 0.],\n",
              "        ...,\n",
              "        [0., 0., 0.],\n",
              "        [0., 0., 0.],\n",
              "        [0., 0., 0.]],\n",
              "\n",
              "       ...,\n",
              "\n",
              "       [[0., 0., 0.],\n",
              "        [0., 0., 0.],\n",
              "        [0., 0., 0.],\n",
              "        ...,\n",
              "        [0., 0., 0.],\n",
              "        [0., 0., 0.],\n",
              "        [0., 0., 0.]],\n",
              "\n",
              "       [[0., 0., 0.],\n",
              "        [0., 0., 0.],\n",
              "        [0., 0., 0.],\n",
              "        ...,\n",
              "        [0., 0., 0.],\n",
              "        [0., 0., 0.],\n",
              "        [0., 0., 0.]],\n",
              "\n",
              "       [[0., 0., 0.],\n",
              "        [0., 0., 0.],\n",
              "        [0., 0., 0.],\n",
              "        ...,\n",
              "        [0., 0., 0.],\n",
              "        [0., 0., 0.],\n",
              "        [0., 0., 0.]]], shape=(148, 160, 3), dtype=float32)"
            ]
          },
          "execution_count": 23,
          "metadata": {},
          "output_type": "execute_result"
        }
      ],
      "source": [
        "imread(para_cell_path)"
      ]
    },
    {
      "cell_type": "code",
      "execution_count": 24,
      "metadata": {
        "id": "GsObRYqksl9K"
      },
      "outputs": [],
      "source": [
        "para_cell = imread(para_cell_path)"
      ]
    },
    {
      "cell_type": "code",
      "execution_count": 25,
      "metadata": {
        "colab": {
          "base_uri": "https://localhost:8080/",
          "height": 526
        },
        "id": "7E8cwW2osl9K",
        "outputId": "9a32c5ba-d671-4d0b-ffa4-756f8d312447"
      },
      "outputs": [
        {
          "data": {
            "image/png": "[encoded data removed]",
            "text/plain": [
              "<Figure size 1000x600 with 1 Axes>"
            ]
          },
          "metadata": {},
          "output_type": "display_data"
        }
      ],
      "source": [
        "plt.imshow(para_cell);"
      ]
    },
    {
      "cell_type": "code",
      "execution_count": 26,
      "metadata": {
        "colab": {
          "base_uri": "https://localhost:8080/"
        },
        "id": "XDpeTqBdsl9L",
        "outputId": "6487a098-f40f-476f-e6e5-aa46989bf7e1"
      },
      "outputs": [
        {
          "data": {
            "text/plain": [
              "(148, 160, 3)"
            ]
          },
          "execution_count": 26,
          "metadata": {},
          "output_type": "execute_result"
        }
      ],
      "source": [
        "para_cell.shape"
      ]
    },
    {
      "cell_type": "code",
      "execution_count": 27,
      "metadata": {
        "colab": {
          "base_uri": "https://localhost:8080/"
        },
        "id": "pj1xYpfksl9M",
        "outputId": "af63c1d8-c70a-4049-8533-b5d36fe7c732"
      },
      "outputs": [
        {
          "data": {
            "text/plain": [
              "['C13NThinF_IMG_20150614_131318_cell_179.png',\n",
              " 'C205ThinF_IMG_20151106_152003_cell_21.png',\n",
              " 'C230ThinF_IMG_20151112_150647_cell_1.png',\n",
              " 'C134P95ThinF_IMG_20151005_121834_cell_65.png',\n",
              " 'C141P102ThinF_IMG_20151005_214836_cell_132.png',\n",
              " 'C182P143NThinF_IMG_20151201_171950_cell_93.png',\n",
              " 'C181P142ThinF_IMG_20151127_160616_cell_54.png',\n",
              " 'C142P103ThinF_IMG_20151005_223257_cell_18.png',\n",
              " 'C80P41ThinF_IMG_20150817_110608_cell_62.png',\n",
              " 'C144P105ThinF_IMG_20151015_163142_cell_66.png']"
            ]
          },
          "execution_count": 27,
          "metadata": {},
          "output_type": "execute_result"
        }
      ],
      "source": [
        "os.listdir(os.path.join(train_path, \"uninfected\"))[:10]"
      ]
    },
    {
      "cell_type": "code",
      "execution_count": 28,
      "metadata": {
        "id": "scyqIWQmsl9M"
      },
      "outputs": [],
      "source": [
        "uninfected_cell_path = os.path.join(\n",
        "    train_path, \"uninfected/\", os.listdir(os.path.join(train_path, \"uninfected\"))[5]\n",
        ")"
      ]
    },
    {
      "cell_type": "code",
      "execution_count": 29,
      "metadata": {
        "colab": {
          "base_uri": "https://localhost:8080/"
        },
        "id": "8sac1keAsl9M",
        "outputId": "b85cf9b4-74b2-4323-b6c4-8d4b57954dd9"
      },
      "outputs": [
        {
          "data": {
            "text/plain": [
              "array([[[0., 0., 0.],\n",
              "        [0., 0., 0.],\n",
              "        [0., 0., 0.],\n",
              "        ...,\n",
              "        [0., 0., 0.],\n",
              "        [0., 0., 0.],\n",
              "        [0., 0., 0.]],\n",
              "\n",
              "       [[0., 0., 0.],\n",
              "        [0., 0., 0.],\n",
              "        [0., 0., 0.],\n",
              "        ...,\n",
              "        [0., 0., 0.],\n",
              "        [0., 0., 0.],\n",
              "        [0., 0., 0.]],\n",
              "\n",
              "       [[0., 0., 0.],\n",
              "        [0., 0., 0.],\n",
              "        [0., 0., 0.],\n",
              "        ...,\n",
              "        [0., 0., 0.],\n",
              "        [0., 0., 0.],\n",
              "        [0., 0., 0.]],\n",
              "\n",
              "       ...,\n",
              "\n",
              "       [[0., 0., 0.],\n",
              "        [0., 0., 0.],\n",
              "        [0., 0., 0.],\n",
              "        ...,\n",
              "        [0., 0., 0.],\n",
              "        [0., 0., 0.],\n",
              "        [0., 0., 0.]],\n",
              "\n",
              "       [[0., 0., 0.],\n",
              "        [0., 0., 0.],\n",
              "        [0., 0., 0.],\n",
              "        ...,\n",
              "        [0., 0., 0.],\n",
              "        [0., 0., 0.],\n",
              "        [0., 0., 0.]],\n",
              "\n",
              "       [[0., 0., 0.],\n",
              "        [0., 0., 0.],\n",
              "        [0., 0., 0.],\n",
              "        ...,\n",
              "        [0., 0., 0.],\n",
              "        [0., 0., 0.],\n",
              "        [0., 0., 0.]]], shape=(67, 91, 3), dtype=float32)"
            ]
          },
          "execution_count": 29,
          "metadata": {},
          "output_type": "execute_result"
        }
      ],
      "source": [
        "imread(uninfected_cell_path)"
      ]
    },
    {
      "cell_type": "code",
      "execution_count": 30,
      "metadata": {
        "colab": {
          "base_uri": "https://localhost:8080/",
          "height": 526
        },
        "id": "GYQ6VT4Esl9N",
        "outputId": "c1cbcfbb-6123-4808-d076-93dc9a5edb71"
      },
      "outputs": [
        {
          "data": {
            "image/png": "[encoded data removed]",
            "text/plain": [
              "<Figure size 1000x600 with 1 Axes>"
            ]
          },
          "metadata": {},
          "output_type": "display_data"
        }
      ],
      "source": [
        "# plt.imshow(imread(uninfected_cell_path));\n",
        "uninfected_cell = imread(uninfected_cell_path)\n",
        "plt.imshow(uninfected_cell);"
      ]
    },
    {
      "cell_type": "code",
      "execution_count": 31,
      "metadata": {
        "colab": {
          "base_uri": "https://localhost:8080/"
        },
        "id": "GREBe_GIrZtp",
        "outputId": "301916cb-ac79-409d-e7d7-2c085ae181cb"
      },
      "outputs": [
        {
          "data": {
            "text/plain": [
              "(67, 91, 3)"
            ]
          },
          "execution_count": 31,
          "metadata": {},
          "output_type": "execute_result"
        }
      ],
      "source": [
        "uninfected_cell.shape"
      ]
    },
    {
      "cell_type": "code",
      "execution_count": 32,
      "metadata": {
        "id": "E0jEJVskgsKG"
      },
      "outputs": [],
      "source": [
        "# View a random image\n",
        "import random\n",
        "\n",
        "\n",
        "def view_random_image(target_dir, target_class):\n",
        "    \"\"\"Returns a randomly selected image after displaying it,\n",
        "    given directory path and class names.\n",
        "    Args:\n",
        "        target_dir (str): Relative path to the target directory\n",
        "        target_class (str): The name of the target class to randomly select a picture from\n",
        "    Returns:\n",
        "        img (np.ndarray): Randomly selected image as np.ndarray\n",
        "    \"\"\"\n",
        "    # Setup target directory (we'll view images from here)\n",
        "    target_folder = os.path.join(target_dir, target_class)\n",
        "\n",
        "    # Get a random image path\n",
        "    random_image = random.sample(os.listdir(target_folder), 1)\n",
        "\n",
        "    # Read in the image and plot it using matplotlib\n",
        "    img = imread(os.path.join(target_folder, random_image[0]))\n",
        "    plt.imshow(img)\n",
        "    plt.title(target_class)\n",
        "    plt.axis(\"off\")\n",
        "\n",
        "    print(f\"Image shape: {img.shape}\")  # show the shape of the image\n",
        "\n",
        "    return img"
      ]
    },
    {
      "cell_type": "code",
      "execution_count": 33,
      "metadata": {
        "colab": {
          "base_uri": "https://localhost:8080/",
          "height": 539
        },
        "id": "khW2E0HmgsUe",
        "outputId": "b5b75a9a-27e0-4a7e-a4d0-03af23850259"
      },
      "outputs": [
        {
          "name": "stdout",
          "output_type": "stream",
          "text": [
            "Image shape: (118, 127, 3)\n"
          ]
        },
        {
          "data": {
            "image/png": "[encoded data removed]",
            "text/plain": [
              "<Figure size 1000x600 with 1 Axes>"
            ]
          },
          "metadata": {},
          "output_type": "display_data"
        }
      ],
      "source": [
        "# View a random image from the training dataset\n",
        "img = view_random_image(target_dir=train_path, target_class=\"parasitized\")"
      ]
    },
    {
      "cell_type": "code",
      "execution_count": 34,
      "metadata": {
        "colab": {
          "base_uri": "https://localhost:8080/",
          "height": 539
        },
        "id": "BcEpw1GPgseo",
        "outputId": "55137099-0a96-44c9-a8e5-4a9be9cae80c"
      },
      "outputs": [
        {
          "name": "stdout",
          "output_type": "stream",
          "text": [
            "Image shape: (145, 136, 3)\n"
          ]
        },
        {
          "data": {
            "image/png": "[encoded data removed]",
            "text/plain": [
              "<Figure size 1000x600 with 1 Axes>"
            ]
          },
          "metadata": {},
          "output_type": "display_data"
        }
      ],
      "source": [
        "# View a random image from the training dataset\n",
        "img = view_random_image(target_dir=train_path, target_class=\"uninfected\")"
      ]
    },
    {
      "cell_type": "code",
      "execution_count": 35,
      "metadata": {
        "colab": {
          "base_uri": "https://localhost:8080/",
          "height": 539
        },
        "id": "KwuIL3FdAXlZ",
        "outputId": "310c527b-22ff-4251-913c-bccf466f225f"
      },
      "outputs": [
        {
          "name": "stdout",
          "output_type": "stream",
          "text": [
            "Image shape: (115, 118, 3)\n"
          ]
        },
        {
          "data": {
            "image/png": "[encoded data removed]",
            "text/plain": [
              "<Figure size 1000x600 with 1 Axes>"
            ]
          },
          "metadata": {},
          "output_type": "display_data"
        }
      ],
      "source": [
        "# View a random image from the training dataset\n",
        "import random\n",
        "\n",
        "img = view_random_image(\n",
        "    target_dir=train_path, target_class=random.choice(class_names)\n",
        ")  # get a random class name"
      ]
    },
    {
      "cell_type": "markdown",
      "metadata": {
        "id": "7qmejxHxsl9O"
      },
      "source": [
        "# Data Preprocessing"
      ]
    },
    {
      "cell_type": "markdown",
      "metadata": {
        "id": "LH--CKJ0sl9O"
      },
      "source": [
        "## Defining Input Shape"
      ]
    },
    {
      "cell_type": "markdown",
      "metadata": {
        "id": "FXz_fh0bsl9O"
      },
      "source": [
        "**Let's decide on the final dimension of these images.**"
      ]
    },
    {
      "cell_type": "code",
      "execution_count": 36,
      "metadata": {
        "colab": {
          "base_uri": "https://localhost:8080/"
        },
        "id": "yedwAw8Jsl9P",
        "outputId": "dd937e80-729f-4a0d-8063-a22206851c4d"
      },
      "outputs": [
        {
          "data": {
            "text/plain": [
              "(67, 91, 3)"
            ]
          },
          "execution_count": 36,
          "metadata": {},
          "output_type": "execute_result"
        }
      ],
      "source": [
        "uninfected_cell.shape"
      ]
    },
    {
      "cell_type": "code",
      "execution_count": 37,
      "metadata": {
        "colab": {
          "base_uri": "https://localhost:8080/"
        },
        "id": "zpfsabyPsl9P",
        "outputId": "8aaa743e-d90f-461f-d073-5da58bb13e98"
      },
      "outputs": [
        {
          "data": {
            "text/plain": [
              "(148, 160, 3)"
            ]
          },
          "execution_count": 37,
          "metadata": {},
          "output_type": "execute_result"
        }
      ],
      "source": [
        "para_cell.shape"
      ]
    },
    {
      "cell_type": "markdown",
      "metadata": {
        "cellView": "code",
        "id": "c1MICswflLpO",
        "outputId": "976efc35-690f-4c05-a758-e70d72df7d9e"
      },
      "source": [
        "```python\n",
        "x = []\n",
        "y = []\n",
        "\n",
        "for image in os.listdir(train_path+'uninfected'):\n",
        "    img = imread(train_path+'uninfected/'+image)\n",
        "    d1,d2,_ = img.shape\n",
        "    x.append(d1)\n",
        "    y.append(d2)\n",
        "```"
      ]
    },
    {
      "cell_type": "code",
      "execution_count": 38,
      "metadata": {
        "id": "Cnndjp3hsl9Q"
      },
      "outputs": [],
      "source": [
        "x = [\n",
        "    imread(os.path.join(train_path, \"uninfected\", image)).shape[0]\n",
        "    for image in os.listdir(os.path.join(train_path, \"uninfected\"))\n",
        "    if \"Thumbs.db\" not in image\n",
        "]\n",
        "y = [\n",
        "    imread(os.path.join(train_path, \"uninfected\", image)).shape[1]\n",
        "    for image in os.listdir(os.path.join(train_path, \"uninfected\"))\n",
        "    if \"Thumbs.db\" not in image\n",
        "]"
      ]
    },
    {
      "cell_type": "code",
      "execution_count": 39,
      "metadata": {
        "colab": {
          "base_uri": "https://localhost:8080/"
        },
        "id": "I8coq5Crsl9R",
        "outputId": "8297faae-17d4-4a84-a896-60ef2b9dd3db"
      },
      "outputs": [
        {
          "data": {
            "text/plain": [
              "[127, 148, 115, 160, 145]"
            ]
          },
          "execution_count": 39,
          "metadata": {},
          "output_type": "execute_result"
        }
      ],
      "source": [
        "x[:5]"
      ]
    },
    {
      "cell_type": "code",
      "execution_count": 40,
      "metadata": {
        "colab": {
          "base_uri": "https://localhost:8080/",
          "height": 522
        },
        "id": "RZ1WZ16Osl9R",
        "outputId": "b0f1bfad-40c8-445c-a944-03f9502436e3"
      },
      "outputs": [
        {
          "data": {
            "image/png": "[encoded data removed]",
            "text/plain": [
              "<Figure size 1000x600 with 1 Axes>"
            ]
          },
          "metadata": {},
          "output_type": "display_data"
        }
      ],
      "source": [
        "sns.scatterplot(x=x, y=y);"
      ]
    },
    {
      "cell_type": "code",
      "execution_count": 41,
      "metadata": {
        "colab": {
          "base_uri": "https://localhost:8080/"
        },
        "id": "CE2dIZyesl9R",
        "outputId": "6856114b-6c95-4881-bfd9-9e65b6fa2411"
      },
      "outputs": [
        {
          "data": {
            "text/plain": [
              "(np.float64(131.64820899110507), np.float64(130.0))"
            ]
          },
          "execution_count": 41,
          "metadata": {},
          "output_type": "execute_result"
        }
      ],
      "source": [
        "np.mean(x), np.median(x)"
      ]
    },
    {
      "cell_type": "code",
      "execution_count": 42,
      "metadata": {
        "colab": {
          "base_uri": "https://localhost:8080/"
        },
        "id": "j-hPSXm7sl9R",
        "outputId": "66bbefbc-8827-445f-fb46-425a12f41b3d"
      },
      "outputs": [
        {
          "data": {
            "text/plain": [
              "(np.float64(131.4041990544114), np.float64(130.0))"
            ]
          },
          "execution_count": 42,
          "metadata": {},
          "output_type": "execute_result"
        }
      ],
      "source": [
        "np.mean(y), np.median(y)"
      ]
    },
    {
      "cell_type": "code",
      "execution_count": 43,
      "metadata": {
        "id": "XZipjtXssl9S"
      },
      "outputs": [],
      "source": [
        "image_shape = (130, 130, 3)"
      ]
    },
    {
      "cell_type": "markdown",
      "metadata": {
        "id": "nzfQWmOxsl9S"
      },
      "source": [
        "## Scaling"
      ]
    },
    {
      "cell_type": "markdown",
      "metadata": {
        "id": "mKfeQeWbsl9S"
      },
      "source": [
        "**Let's check the images if they are needed to be scaled or not**"
      ]
    },
    {
      "cell_type": "code",
      "execution_count": 44,
      "metadata": {
        "colab": {
          "base_uri": "https://localhost:8080/"
        },
        "id": "Wh48Bd-1sl9S",
        "outputId": "7f7d7f0c-4b6b-42a5-d6f4-75e421509bf9"
      },
      "outputs": [
        {
          "data": {
            "text/plain": [
              "np.float32(0.74509805)"
            ]
          },
          "execution_count": 44,
          "metadata": {},
          "output_type": "execute_result"
        }
      ],
      "source": [
        "uninfected_cell.max()"
      ]
    },
    {
      "cell_type": "code",
      "execution_count": 45,
      "metadata": {
        "colab": {
          "base_uri": "https://localhost:8080/"
        },
        "id": "X4lGP4Essl9S",
        "outputId": "39f3939e-f88c-49d7-837b-e0eea3563f62"
      },
      "outputs": [
        {
          "data": {
            "text/plain": [
              "np.float32(0.89411765)"
            ]
          },
          "execution_count": 45,
          "metadata": {},
          "output_type": "execute_result"
        }
      ],
      "source": [
        "para_cell.max()"
      ]
    },
    {
      "cell_type": "markdown",
      "metadata": {
        "id": "o-rpBt-ysl9S"
      },
      "source": [
        "As we see above, all images have already been scaled"
      ]
    },
    {
      "cell_type": "markdown",
      "metadata": {
        "id": "wwoyEQxasl9T"
      },
      "source": [
        "## Image Data Generator"
      ]
    },
    {
      "cell_type": "markdown",
      "metadata": {
        "id": "rMtI4ruOtZBS"
      },
      "source": [
        "**Image Manipulation**\n",
        "\n",
        "We can use the ImageDataGenerator to manipulate the images with rotation, resizing, and scaling so the model becomes more robust to different images that our data set doesn't have. ImageDataGenerator does the followings.\n",
        "\n",
        "* Accepts a batch of images used for training.\n",
        "* Applies a series of random transformations to each image in the batch.\n",
        "* Replaces the original batch with randomly transformed batch.\n",
        "* Training the CNN on this randomly transformed batch.\n",
        "\n",
        "The goal of applying data augmentation is to have a more generalized model.\n",
        "\n",
        "Data augmentation is a way to try and prevent a model overfitting. If your model is overfiting (e.g. the validation loss keeps increasing), you may want to try using data augmentation."
      ]
    },
    {
      "cell_type": "code",
      "execution_count": 46,
      "metadata": {
        "id": "PvfAR41Isl9T"
      },
      "outputs": [],
      "source": [
        "from tensorflow.keras.preprocessing.image import ImageDataGenerator"
      ]
    },
    {
      "cell_type": "code",
      "execution_count": 47,
      "metadata": {
        "colab": {
          "base_uri": "https://localhost:8080/"
        },
        "id": "-R0eYE5esl9T",
        "outputId": "e44b2a14-69fb-4ef8-949b-c3eccefae036"
      },
      "outputs": [
        {
          "name": "stdout",
          "output_type": "stream",
          "text": [
            "Help on class ImageDataGenerator in module keras.src.legacy.preprocessing.image:\n",
            "\n",
            "class ImageDataGenerator(builtins.object)\n",
            " |  ImageDataGenerator(featurewise_center=False, samplewise_center=False, featurewise_std_normalization=False, samplewise_std_normalization=False, zca_whitening=False, zca_epsilon=1e-06, rotation_range=0, width_shift_range=0.0, height_shift_range=0.0, brightness_range=None, shear_range=0.0, zoom_range=0.0, channel_shift_range=0.0, fill_mode='nearest', cval=0.0, horizontal_flip=False, vertical_flip=False, rescale=None, preprocessing_function=None, data_format=None, validation_split=0.0, interpolation_order=1, dtype=None)\n",
            " |  \n",
            " |  DEPRECATED.\n",
            " |  \n",
            " |  Methods defined here:\n",
            " |  \n",
            " |  __init__(self, featurewise_center=False, samplewise_center=False, featurewise_std_normalization=False, samplewise_std_normalization=False, zca_whitening=False, zca_epsilon=1e-06, rotation_range=0, width_shift_range=0.0, height_shift_range=0.0, brightness_range=None, shear_range=0.0, zoom_range=0.0, channel_shift_range=0.0, fill_mode='nearest', cval=0.0, horizontal_flip=False, vertical_flip=False, rescale=None, preprocessing_function=None, data_format=None, validation_split=0.0, interpolation_order=1, dtype=None)\n",
            " |      Initialize self.  See help(type(self)) for accurate signature.\n",
            " |  \n",
            " |  apply_transform(self, x, transform_parameters)\n",
            " |      Applies a transformation to an image according to given parameters.\n",
            " |      \n",
            " |      Args:\n",
            " |          x: 3D tensor, single image.\n",
            " |          transform_parameters: Dictionary with string - parameter pairs\n",
            " |              describing the transformation.\n",
            " |              Currently, the following parameters\n",
            " |              from the dictionary are used:\n",
            " |              - `'theta'`: Float. Rotation angle in degrees.\n",
            " |              - `'tx'`: Float. Shift in the x direction.\n",
            " |              - `'ty'`: Float. Shift in the y direction.\n",
            " |              - `'shear'`: Float. Shear angle in degrees.\n",
            " |              - `'zx'`: Float. Zoom in the x direction.\n",
            " |              - `'zy'`: Float. Zoom in the y direction.\n",
            " |              - `'flip_horizontal'`: Boolean. Horizontal flip.\n",
            " |              - `'flip_vertical'`: Boolean. Vertical flip.\n",
            " |              - `'channel_shift_intensity'`: Float. Channel shift intensity.\n",
            " |              - `'brightness'`: Float. Brightness shift intensity.\n",
            " |      \n",
            " |      Returns:\n",
            " |          A transformed version of the input (same shape).\n",
            " |  \n",
            " |  fit(self, x, augment=False, rounds=1, seed=None)\n",
            " |      Fits the data generator to some sample data.\n",
            " |      \n",
            " |      This computes the internal data stats related to the\n",
            " |      data-dependent transformations, based on an array of sample data.\n",
            " |      \n",
            " |      Only required if `featurewise_center` or\n",
            " |      `featurewise_std_normalization` or `zca_whitening`\n",
            " |      are set to `True`.\n",
            " |      \n",
            " |      When `rescale` is set to a value, rescaling is applied to\n",
            " |      sample data before computing the internal data stats.\n",
            " |      \n",
            " |      Args:\n",
            " |          x: Sample data. Should have rank 4.\n",
            " |           In case of grayscale data,\n",
            " |           the channels axis should have value 1, in case\n",
            " |           of RGB data, it should have value 3, and in case\n",
            " |           of RGBA data, it should have value 4.\n",
            " |          augment: Boolean (default: False).\n",
            " |              Whether to fit on randomly augmented samples.\n",
            " |          rounds: Int (default: 1).\n",
            " |              If using data augmentation (`augment=True`),\n",
            " |              this is how many augmentation passes over the data to use.\n",
            " |          seed: Int (default: None). Random seed.\n",
            " |  \n",
            " |  flow(self, x, y=None, batch_size=32, shuffle=True, sample_weight=None, seed=None, save_to_dir=None, save_prefix='', save_format='png', ignore_class_split=False, subset=None)\n",
            " |  \n",
            " |  flow_from_dataframe(self, dataframe, directory=None, x_col='filename', y_col='class', weight_col=None, target_size=(256, 256), color_mode='rgb', classes=None, class_mode='categorical', batch_size=32, shuffle=True, seed=None, save_to_dir=None, save_prefix='', save_format='png', subset=None, interpolation='nearest', validate_filenames=True, **kwargs)\n",
            " |  \n",
            " |  flow_from_directory(self, directory, target_size=(256, 256), color_mode='rgb', classes=None, class_mode='categorical', batch_size=32, shuffle=True, seed=None, save_to_dir=None, save_prefix='', save_format='png', follow_links=False, subset=None, interpolation='nearest', keep_aspect_ratio=False)\n",
            " |  \n",
            " |  get_random_transform(self, img_shape, seed=None)\n",
            " |      Generates random parameters for a transformation.\n",
            " |      \n",
            " |      Args:\n",
            " |          img_shape: Tuple of integers.\n",
            " |              Shape of the image that is transformed.\n",
            " |          seed: Random seed.\n",
            " |      \n",
            " |      Returns:\n",
            " |          A dictionary containing randomly chosen parameters describing the\n",
            " |          transformation.\n",
            " |  \n",
            " |  random_transform(self, x, seed=None)\n",
            " |      Applies a random transformation to an image.\n",
            " |      \n",
            " |      Args:\n",
            " |          x: 3D tensor, single image.\n",
            " |          seed: Random seed.\n",
            " |      \n",
            " |      Returns:\n",
            " |          A randomly transformed version of the input (same shape).\n",
            " |  \n",
            " |  standardize(self, x)\n",
            " |      Applies the normalization configuration in-place to a batch of\n",
            " |      inputs.\n",
            " |      \n",
            " |      `x` is changed in-place since the function is mainly used internally\n",
            " |      to standardize images and feed them to your network. If a copy of `x`\n",
            " |      would be created instead it would have a significant performance cost.\n",
            " |      If you want to apply this method without changing the input in-place\n",
            " |      you can call the method creating a copy before:\n",
            " |      \n",
            " |      standardize(np.copy(x))\n",
            " |      \n",
            " |      Args:\n",
            " |          x: Batch of inputs to be normalized.\n",
            " |      \n",
            " |      Returns:\n",
            " |          The inputs, normalized.\n",
            " |  \n",
            " |  ----------------------------------------------------------------------\n",
            " |  Data descriptors defined here:\n",
            " |  \n",
            " |  __dict__\n",
            " |      dictionary for instance variables (if defined)\n",
            " |  \n",
            " |  __weakref__\n",
            " |      list of weak references to the object (if defined)\n",
            "\n"
          ]
        }
      ],
      "source": [
        "help(ImageDataGenerator)"
      ]
    },
    {
      "cell_type": "code",
      "execution_count": 48,
      "metadata": {
        "id": "CG7aykrysl9T"
      },
      "outputs": [],
      "source": [
        "image_gen = ImageDataGenerator(\n",
        "    rotation_range=15,\n",
        "    width_shift_range=0.10,\n",
        "    height_shift_range=0.10,\n",
        "    # rescale=1/255,\n",
        "    shear_range=0.1,\n",
        "    zoom_range=0.1,\n",
        "    horizontal_flip=True,\n",
        "    fill_mode=\"nearest\",\n",
        ")"
      ]
    },
    {
      "cell_type": "code",
      "execution_count": 49,
      "metadata": {
        "id": "K5_V2yj7pFRl"
      },
      "outputs": [],
      "source": [
        "val_image_gen = ImageDataGenerator()"
      ]
    },
    {
      "cell_type": "code",
      "execution_count": 50,
      "metadata": {
        "colab": {
          "base_uri": "https://localhost:8080/",
          "height": 526
        },
        "id": "hYjJqytGsl9T",
        "outputId": "93e9364f-02ab-4448-d708-0ac6812efb4b"
      },
      "outputs": [
        {
          "data": {
            "image/png": "[encoded data removed]",
            "text/plain": [
              "<Figure size 1000x600 with 1 Axes>"
            ]
          },
          "metadata": {},
          "output_type": "display_data"
        }
      ],
      "source": [
        "plt.imshow(para_cell);"
      ]
    },
    {
      "cell_type": "code",
      "execution_count": 51,
      "metadata": {
        "colab": {
          "base_uri": "https://localhost:8080/",
          "height": 526
        },
        "id": "EkKJrYeFsl9T",
        "outputId": "f3415326-b4f7-46c3-cff9-2eb3c1a3b948"
      },
      "outputs": [
        {
          "data": {
            "image/png": "[encoded data removed]",
            "text/plain": [
              "<Figure size 1000x600 with 1 Axes>"
            ]
          },
          "metadata": {},
          "output_type": "display_data"
        }
      ],
      "source": [
        "plt.imshow(image_gen.random_transform(para_cell));"
      ]
    },
    {
      "cell_type": "markdown",
      "metadata": {
        "id": "NXTR3CIv0qm1"
      },
      "source": [
        "### Taking the path to a directory & Generating batches of augmented data\n",
        "\n",
        "flow_from_directory function works with images organized in sub-directories. Your directories should include only one class of images, so one folder per class of images."
      ]
    },
    {
      "cell_type": "code",
      "execution_count": 52,
      "metadata": {
        "id": "7_KXVvrtsl9U"
      },
      "outputs": [],
      "source": [
        "# help(image_gen.flow_from_directory)\n",
        "# Takes the path to a directory & generates batches of augmented data."
      ]
    },
    {
      "cell_type": "code",
      "execution_count": 53,
      "metadata": {
        "colab": {
          "base_uri": "https://localhost:8080/"
        },
        "id": "gg7R9FNEsl9U",
        "outputId": "7f2f2270-18d2-4284-a6cb-ee30c90a8297"
      },
      "outputs": [
        {
          "name": "stdout",
          "output_type": "stream",
          "text": [
            "Found 24958 images belonging to 2 classes.\n"
          ]
        },
        {
          "data": {
            "text/plain": [
              "<keras.src.legacy.preprocessing.image.DirectoryIterator at 0x314f16500>"
            ]
          },
          "execution_count": 53,
          "metadata": {},
          "output_type": "execute_result"
        }
      ],
      "source": [
        "image_gen.flow_from_directory(train_path)"
      ]
    },
    {
      "cell_type": "code",
      "execution_count": 54,
      "metadata": {
        "colab": {
          "base_uri": "https://localhost:8080/"
        },
        "id": "lDqfD0mUsl9U",
        "outputId": "0e385afe-aab4-47ba-b8d0-5054492908d2"
      },
      "outputs": [
        {
          "name": "stdout",
          "output_type": "stream",
          "text": [
            "Found 2600 images belonging to 2 classes.\n"
          ]
        },
        {
          "data": {
            "text/plain": [
              "<keras.src.legacy.preprocessing.image.DirectoryIterator at 0x314f16d40>"
            ]
          },
          "execution_count": 54,
          "metadata": {},
          "output_type": "execute_result"
        }
      ],
      "source": [
        "val_image_gen.flow_from_directory(test_path)"
      ]
    },
    {
      "cell_type": "code",
      "execution_count": 55,
      "metadata": {
        "id": "uh3j7j6_00ch"
      },
      "outputs": [],
      "source": [
        "batch_size = 32"
      ]
    },
    {
      "cell_type": "code",
      "execution_count": 56,
      "metadata": {
        "colab": {
          "base_uri": "https://localhost:8080/"
        },
        "id": "c8ELVwKrM0jy",
        "outputId": "9d847689-0a58-4c01-dc0b-9d1928ee4837"
      },
      "outputs": [
        {
          "data": {
            "text/plain": [
              "(130, 130, 3)"
            ]
          },
          "execution_count": 56,
          "metadata": {},
          "output_type": "execute_result"
        }
      ],
      "source": [
        "image_shape"
      ]
    },
    {
      "cell_type": "code",
      "execution_count": 57,
      "metadata": {
        "colab": {
          "base_uri": "https://localhost:8080/"
        },
        "id": "gV4T5jcwsl9U",
        "outputId": "bd6126e8-b2e5-40cf-a6b3-cfa67e69d85d"
      },
      "outputs": [
        {
          "name": "stdout",
          "output_type": "stream",
          "text": [
            "Found 24958 images belonging to 2 classes.\n"
          ]
        }
      ],
      "source": [
        "train_image_gen = image_gen.flow_from_directory(\n",
        "    directory=train_path,\n",
        "    target_size=image_shape[:2],\n",
        "    color_mode=\"rgb\",\n",
        "    batch_size=batch_size,\n",
        "    class_mode=\"binary\",\n",
        "    shuffle=True,\n",
        ")"
      ]
    },
    {
      "cell_type": "code",
      "execution_count": 58,
      "metadata": {
        "colab": {
          "base_uri": "https://localhost:8080/"
        },
        "id": "KbbqrT2Asl9U",
        "outputId": "017294ce-0dca-477b-d1b7-691c089b19ba"
      },
      "outputs": [
        {
          "name": "stdout",
          "output_type": "stream",
          "text": [
            "Found 2600 images belonging to 2 classes.\n"
          ]
        }
      ],
      "source": [
        "test_image_gen = val_image_gen.flow_from_directory(\n",
        "    directory=test_path,\n",
        "    target_size=image_shape[:2],\n",
        "    color_mode=\"rgb\",\n",
        "    batch_size=batch_size,\n",
        "    class_mode=\"binary\",\n",
        "    shuffle=False,\n",
        ")"
      ]
    },
    {
      "cell_type": "code",
      "execution_count": 59,
      "metadata": {
        "colab": {
          "base_uri": "https://localhost:8080/"
        },
        "id": "efxzYhpisl9V",
        "outputId": "ef09f246-fa8d-42d2-cf83-3bcd15668a56"
      },
      "outputs": [
        {
          "data": {
            "text/plain": [
              "{'parasitized': 0, 'uninfected': 1}"
            ]
          },
          "execution_count": 59,
          "metadata": {},
          "output_type": "execute_result"
        }
      ],
      "source": [
        "train_image_gen.class_indices"
      ]
    },
    {
      "cell_type": "code",
      "execution_count": 60,
      "metadata": {
        "colab": {
          "base_uri": "https://localhost:8080/"
        },
        "id": "eE82-YIQUHtE",
        "outputId": "de4d3400-85e3-44ca-8af2-d5889ef25651"
      },
      "outputs": [
        {
          "data": {
            "text/plain": [
              "{'parasitized': 0, 'uninfected': 1}"
            ]
          },
          "execution_count": 60,
          "metadata": {},
          "output_type": "execute_result"
        }
      ],
      "source": [
        "test_image_gen.class_indices"
      ]
    },
    {
      "cell_type": "code",
      "execution_count": 61,
      "metadata": {
        "colab": {
          "base_uri": "https://localhost:8080/"
        },
        "id": "rdGKZN6jpFRp",
        "outputId": "db4eaec5-7ca2-433d-cc12-4660d3240209"
      },
      "outputs": [
        {
          "data": {
            "text/plain": [
              "<keras.src.legacy.preprocessing.image.DirectoryIterator at 0x314f164a0>"
            ]
          },
          "execution_count": 61,
          "metadata": {},
          "output_type": "execute_result"
        }
      ],
      "source": [
        "train_image_gen"
      ]
    },
    {
      "cell_type": "code",
      "execution_count": 62,
      "metadata": {
        "colab": {
          "base_uri": "https://localhost:8080/"
        },
        "id": "g_tNsaxlsl9V",
        "outputId": "866184dc-f6b2-4faf-a482-722fb3482550"
      },
      "outputs": [
        {
          "data": {
            "text/plain": [
              "(32, 130, 130, 3)"
            ]
          },
          "execution_count": 62,
          "metadata": {},
          "output_type": "execute_result"
        }
      ],
      "source": [
        "train_image_gen[0][0].shape"
      ]
    },
    {
      "cell_type": "code",
      "execution_count": 63,
      "metadata": {
        "colab": {
          "base_uri": "https://localhost:8080/"
        },
        "id": "w08Vuz9y88iG",
        "outputId": "711aca09-2a59-4f91-a84d-95cb4809f4ae"
      },
      "outputs": [
        {
          "data": {
            "text/plain": [
              "(130, 130, 3)"
            ]
          },
          "execution_count": 63,
          "metadata": {},
          "output_type": "execute_result"
        }
      ],
      "source": [
        "train_image_gen[0][0][0].shape"
      ]
    },
    {
      "cell_type": "code",
      "execution_count": 64,
      "metadata": {
        "colab": {
          "base_uri": "https://localhost:8080/"
        },
        "id": "kBX9wMYasl9V",
        "outputId": "c125e2f6-21c0-4bb1-bca1-7755bd9671b1"
      },
      "outputs": [
        {
          "data": {
            "text/plain": [
              "(780, 82)"
            ]
          },
          "execution_count": 64,
          "metadata": {},
          "output_type": "execute_result"
        }
      ],
      "source": [
        "len(train_image_gen), len(test_image_gen)"
      ]
    },
    {
      "cell_type": "markdown",
      "metadata": {
        "id": "DdsGemY8yTzD"
      },
      "source": []
    },
    {
      "cell_type": "code",
      "execution_count": 65,
      "metadata": {
        "colab": {
          "base_uri": "https://localhost:8080/"
        },
        "id": "aS4Gj8PGsl9V",
        "outputId": "50286abc-e24c-42b3-dd6f-48740e35ce13"
      },
      "outputs": [
        {
          "data": {
            "text/plain": [
              "(24960, 2624)"
            ]
          },
          "execution_count": 65,
          "metadata": {},
          "output_type": "execute_result"
        }
      ],
      "source": [
        "len(train_image_gen) * batch_size, len(test_image_gen) * batch_size"
      ]
    },
    {
      "cell_type": "code",
      "execution_count": 66,
      "metadata": {
        "colab": {
          "base_uri": "https://localhost:8080/"
        },
        "id": "ZkqN1GrZ8QSs",
        "outputId": "4393341a-a47f-4be7-c1a3-a7c18675f03a"
      },
      "outputs": [
        {
          "data": {
            "text/plain": [
              "(32, 32)"
            ]
          },
          "execution_count": 66,
          "metadata": {},
          "output_type": "execute_result"
        }
      ],
      "source": [
        "# Get a sample of the training data batch\n",
        "images, labels = next(train_image_gen)  # get the 'next' batch of images/labels\n",
        "len(images), len(labels)"
      ]
    },
    {
      "cell_type": "code",
      "execution_count": 67,
      "metadata": {
        "colab": {
          "base_uri": "https://localhost:8080/"
        },
        "id": "7UDSmH8F8aBH",
        "outputId": "197162e8-acc5-4039-9735-c461b4475403"
      },
      "outputs": [
        {
          "data": {
            "text/plain": [
              "(32, 32)"
            ]
          },
          "execution_count": 67,
          "metadata": {},
          "output_type": "execute_result"
        }
      ],
      "source": [
        "# Get a sample of the testing data batch\n",
        "images, labels = next(test_image_gen)  # get the 'next' batch of images/labels\n",
        "len(images), len(labels)"
      ]
    },
    {
      "cell_type": "markdown",
      "metadata": {
        "id": "McnEpbpKsl9W"
      },
      "source": [
        "# Modelling-1"
      ]
    },
    {
      "cell_type": "code",
      "execution_count": 68,
      "metadata": {
        "id": "_4wdkY_Csl9W"
      },
      "outputs": [],
      "source": [
        "from tensorflow.keras.models import Sequential\n",
        "from tensorflow.keras.layers import (\n",
        "    Activation,\n",
        "    Dropout,\n",
        "    Flatten,\n",
        "    Dense,\n",
        "    Conv2D,\n",
        "    MaxPooling2D,\n",
        ")\n",
        "from tensorflow.keras.callbacks import EarlyStopping"
      ]
    },
    {
      "cell_type": "code",
      "execution_count": 69,
      "metadata": {
        "colab": {
          "base_uri": "https://localhost:8080/"
        },
        "id": "CQzvmjcEsl9W",
        "outputId": "3e652ee2-6497-4ef0-9b4c-2efa18cb29ec"
      },
      "outputs": [
        {
          "name": "stderr",
          "output_type": "stream",
          "text": [
            "/opt/anaconda3/envs/tf/lib/python3.10/site-packages/keras/src/layers/convolutional/base_conv.py:107: UserWarning: Do not pass an `input_shape`/`input_dim` argument to a layer. When using Sequential models, prefer using an `Input(shape)` object as the first layer in the model instead.\n",
            "  super().__init__(activity_regularizer=activity_regularizer, **kwargs)\n"
          ]
        }
      ],
      "source": [
        "model1 = Sequential()\n",
        "\n",
        "model1.add(\n",
        "    Conv2D(filters=32, kernel_size=(3, 3), input_shape=image_shape, activation=\"relu\")\n",
        ")\n",
        "model1.add(MaxPooling2D(pool_size=(2, 2)))\n",
        "\n",
        "model1.add(Conv2D(filters=64, kernel_size=(3, 3), activation=\"relu\"))\n",
        "model1.add(MaxPooling2D(pool_size=(2, 2)))\n",
        "\n",
        "model1.add(Conv2D(filters=64, kernel_size=(3, 3), activation=\"relu\"))\n",
        "model1.add(MaxPooling2D(pool_size=(2, 2)))\n",
        "\n",
        "############################\n",
        "\n",
        "model1.add(Flatten())\n",
        "\n",
        "############################\n",
        "\n",
        "model1.add(Dense(128))\n",
        "model1.add(Activation(\"relu\"))\n",
        "\n",
        "###########################\n",
        "\n",
        "model1.add(Dropout(0.5))\n",
        "\n",
        "###########################\n",
        "\n",
        "model1.add(Dense(1))\n",
        "model1.add(Activation(\"sigmoid\"))\n",
        "\n",
        "############################\n",
        "\n",
        "# optimizer = keras.optimizers.Adam(lr=0.01)\n",
        "model1.compile(loss=\"binary_crossentropy\", optimizer=\"adam\", metrics=[\"accuracy\"])"
      ]
    },
    {
      "cell_type": "code",
      "execution_count": 70,
      "metadata": {
        "colab": {
          "base_uri": "https://localhost:8080/",
          "height": 529
        },
        "id": "MHI3EEvXsl9W",
        "outputId": "14920f43-b1de-4a81-f86d-9bd6f51a9944"
      },
      "outputs": [
        {
          "data": {
            "text/html": [
              "<pre style=\"white-space:pre;overflow-x:auto;line-height:normal;font-family:Menlo,'DejaVu Sans Mono',consolas,'Courier New',monospace\"><span style=\"font-weight: bold\">Model: \"sequential\"</span>\n",
              "</pre>\n"
            ],
            "text/plain": [
              "\u001b[1mModel: \"sequential\"\u001b[0m\n"
            ]
          },
          "metadata": {},
          "output_type": "display_data"
        },
        {
          "data": {
            "text/html": [
              "<pre style=\"white-space:pre;overflow-x:auto;line-height:normal;font-family:Menlo,'DejaVu Sans Mono',consolas,'Courier New',monospace\">┏━━━━━━━━━━━━━━━━━━━━━━━━━━━━━━━━━┳━━━━━━━━━━━━━━━━━━━━━━━━┳━━━━━━━━━━━━━━━┓\n",
              "┃<span style=\"font-weight: bold\"> Layer (type)                    </span>┃<span style=\"font-weight: bold\"> Output Shape           </span>┃<span style=\"font-weight: bold\">       Param # </span>┃\n",
              "┡━━━━━━━━━━━━━━━━━━━━━━━━━━━━━━━━━╇━━━━━━━━━━━━━━━━━━━━━━━━╇━━━━━━━━━━━━━━━┩\n",
              "│ conv2d (<span style=\"color: #0087ff; text-decoration-color: #0087ff\">Conv2D</span>)                 │ (<span style=\"color: #00d7ff; text-decoration-color: #00d7ff\">None</span>, <span style=\"color: #00af00; text-decoration-color: #00af00\">128</span>, <span style=\"color: #00af00; text-decoration-color: #00af00\">128</span>, <span style=\"color: #00af00; text-decoration-color: #00af00\">32</span>)   │           <span style=\"color: #00af00; text-decoration-color: #00af00\">896</span> │\n",
              "├─────────────────────────────────┼────────────────────────┼───────────────┤\n",
              "│ max_pooling2d (<span style=\"color: #0087ff; text-decoration-color: #0087ff\">MaxPooling2D</span>)    │ (<span style=\"color: #00d7ff; text-decoration-color: #00d7ff\">None</span>, <span style=\"color: #00af00; text-decoration-color: #00af00\">64</span>, <span style=\"color: #00af00; text-decoration-color: #00af00\">64</span>, <span style=\"color: #00af00; text-decoration-color: #00af00\">32</span>)     │             <span style=\"color: #00af00; text-decoration-color: #00af00\">0</span> │\n",
              "├─────────────────────────────────┼────────────────────────┼───────────────┤\n",
              "│ conv2d_1 (<span style=\"color: #0087ff; text-decoration-color: #0087ff\">Conv2D</span>)               │ (<span style=\"color: #00d7ff; text-decoration-color: #00d7ff\">None</span>, <span style=\"color: #00af00; text-decoration-color: #00af00\">62</span>, <span style=\"color: #00af00; text-decoration-color: #00af00\">62</span>, <span style=\"color: #00af00; text-decoration-color: #00af00\">64</span>)     │        <span style=\"color: #00af00; text-decoration-color: #00af00\">18,496</span> │\n",
              "├─────────────────────────────────┼────────────────────────┼───────────────┤\n",
              "│ max_pooling2d_1 (<span style=\"color: #0087ff; text-decoration-color: #0087ff\">MaxPooling2D</span>)  │ (<span style=\"color: #00d7ff; text-decoration-color: #00d7ff\">None</span>, <span style=\"color: #00af00; text-decoration-color: #00af00\">31</span>, <span style=\"color: #00af00; text-decoration-color: #00af00\">31</span>, <span style=\"color: #00af00; text-decoration-color: #00af00\">64</span>)     │             <span style=\"color: #00af00; text-decoration-color: #00af00\">0</span> │\n",
              "├─────────────────────────────────┼────────────────────────┼───────────────┤\n",
              "│ conv2d_2 (<span style=\"color: #0087ff; text-decoration-color: #0087ff\">Conv2D</span>)               │ (<span style=\"color: #00d7ff; text-decoration-color: #00d7ff\">None</span>, <span style=\"color: #00af00; text-decoration-color: #00af00\">29</span>, <span style=\"color: #00af00; text-decoration-color: #00af00\">29</span>, <span style=\"color: #00af00; text-decoration-color: #00af00\">64</span>)     │        <span style=\"color: #00af00; text-decoration-color: #00af00\">36,928</span> │\n",
              "├─────────────────────────────────┼────────────────────────┼───────────────┤\n",
              "│ max_pooling2d_2 (<span style=\"color: #0087ff; text-decoration-color: #0087ff\">MaxPooling2D</span>)  │ (<span style=\"color: #00d7ff; text-decoration-color: #00d7ff\">None</span>, <span style=\"color: #00af00; text-decoration-color: #00af00\">14</span>, <span style=\"color: #00af00; text-decoration-color: #00af00\">14</span>, <span style=\"color: #00af00; text-decoration-color: #00af00\">64</span>)     │             <span style=\"color: #00af00; text-decoration-color: #00af00\">0</span> │\n",
              "├─────────────────────────────────┼────────────────────────┼───────────────┤\n",
              "│ flatten (<span style=\"color: #0087ff; text-decoration-color: #0087ff\">Flatten</span>)               │ (<span style=\"color: #00d7ff; text-decoration-color: #00d7ff\">None</span>, <span style=\"color: #00af00; text-decoration-color: #00af00\">12544</span>)          │             <span style=\"color: #00af00; text-decoration-color: #00af00\">0</span> │\n",
              "├─────────────────────────────────┼────────────────────────┼───────────────┤\n",
              "│ dense (<span style=\"color: #0087ff; text-decoration-color: #0087ff\">Dense</span>)                   │ (<span style=\"color: #00d7ff; text-decoration-color: #00d7ff\">None</span>, <span style=\"color: #00af00; text-decoration-color: #00af00\">128</span>)            │     <span style=\"color: #00af00; text-decoration-color: #00af00\">1,605,760</span> │\n",
              "├─────────────────────────────────┼────────────────────────┼───────────────┤\n",
              "│ activation (<span style=\"color: #0087ff; text-decoration-color: #0087ff\">Activation</span>)         │ (<span style=\"color: #00d7ff; text-decoration-color: #00d7ff\">None</span>, <span style=\"color: #00af00; text-decoration-color: #00af00\">128</span>)            │             <span style=\"color: #00af00; text-decoration-color: #00af00\">0</span> │\n",
              "├─────────────────────────────────┼────────────────────────┼───────────────┤\n",
              "│ dropout (<span style=\"color: #0087ff; text-decoration-color: #0087ff\">Dropout</span>)               │ (<span style=\"color: #00d7ff; text-decoration-color: #00d7ff\">None</span>, <span style=\"color: #00af00; text-decoration-color: #00af00\">128</span>)            │             <span style=\"color: #00af00; text-decoration-color: #00af00\">0</span> │\n",
              "├─────────────────────────────────┼────────────────────────┼───────────────┤\n",
              "│ dense_1 (<span style=\"color: #0087ff; text-decoration-color: #0087ff\">Dense</span>)                 │ (<span style=\"color: #00d7ff; text-decoration-color: #00d7ff\">None</span>, <span style=\"color: #00af00; text-decoration-color: #00af00\">1</span>)              │           <span style=\"color: #00af00; text-decoration-color: #00af00\">129</span> │\n",
              "├─────────────────────────────────┼────────────────────────┼───────────────┤\n",
              "│ activation_1 (<span style=\"color: #0087ff; text-decoration-color: #0087ff\">Activation</span>)       │ (<span style=\"color: #00d7ff; text-decoration-color: #00d7ff\">None</span>, <span style=\"color: #00af00; text-decoration-color: #00af00\">1</span>)              │             <span style=\"color: #00af00; text-decoration-color: #00af00\">0</span> │\n",
              "└─────────────────────────────────┴────────────────────────┴───────────────┘\n",
              "</pre>\n"
            ],
            "text/plain": [
              "┏━━━━━━━━━━━━━━━━━━━━━━━━━━━━━━━━━┳━━━━━━━━━━━━━━━━━━━━━━━━┳━━━━━━━━━━━━━━━┓\n",
              "┃\u001b[1m \u001b[0m\u001b[1mLayer (type)                   \u001b[0m\u001b[1m \u001b[0m┃\u001b[1m \u001b[0m\u001b[1mOutput Shape          \u001b[0m\u001b[1m \u001b[0m┃\u001b[1m \u001b[0m\u001b[1m      Param #\u001b[0m\u001b[1m \u001b[0m┃\n",
              "┡━━━━━━━━━━━━━━━━━━━━━━━━━━━━━━━━━╇━━━━━━━━━━━━━━━━━━━━━━━━╇━━━━━━━━━━━━━━━┩\n",
              "│ conv2d (\u001b[38;5;33mConv2D\u001b[0m)                 │ (\u001b[38;5;45mNone\u001b[0m, \u001b[38;5;34m128\u001b[0m, \u001b[38;5;34m128\u001b[0m, \u001b[38;5;34m32\u001b[0m)   │           \u001b[38;5;34m896\u001b[0m │\n",
              "├─────────────────────────────────┼────────────────────────┼───────────────┤\n",
              "│ max_pooling2d (\u001b[38;5;33mMaxPooling2D\u001b[0m)    │ (\u001b[38;5;45mNone\u001b[0m, \u001b[38;5;34m64\u001b[0m, \u001b[38;5;34m64\u001b[0m, \u001b[38;5;34m32\u001b[0m)     │             \u001b[38;5;34m0\u001b[0m │\n",
              "├─────────────────────────────────┼────────────────────────┼───────────────┤\n",
              "│ conv2d_1 (\u001b[38;5;33mConv2D\u001b[0m)               │ (\u001b[38;5;45mNone\u001b[0m, \u001b[38;5;34m62\u001b[0m, \u001b[38;5;34m62\u001b[0m, \u001b[38;5;34m64\u001b[0m)     │        \u001b[38;5;34m18,496\u001b[0m │\n",
              "├─────────────────────────────────┼────────────────────────┼───────────────┤\n",
              "│ max_pooling2d_1 (\u001b[38;5;33mMaxPooling2D\u001b[0m)  │ (\u001b[38;5;45mNone\u001b[0m, \u001b[38;5;34m31\u001b[0m, \u001b[38;5;34m31\u001b[0m, \u001b[38;5;34m64\u001b[0m)     │             \u001b[38;5;34m0\u001b[0m │\n",
              "├─────────────────────────────────┼────────────────────────┼───────────────┤\n",
              "│ conv2d_2 (\u001b[38;5;33mConv2D\u001b[0m)               │ (\u001b[38;5;45mNone\u001b[0m, \u001b[38;5;34m29\u001b[0m, \u001b[38;5;34m29\u001b[0m, \u001b[38;5;34m64\u001b[0m)     │        \u001b[38;5;34m36,928\u001b[0m │\n",
              "├─────────────────────────────────┼────────────────────────┼───────────────┤\n",
              "│ max_pooling2d_2 (\u001b[38;5;33mMaxPooling2D\u001b[0m)  │ (\u001b[38;5;45mNone\u001b[0m, \u001b[38;5;34m14\u001b[0m, \u001b[38;5;34m14\u001b[0m, \u001b[38;5;34m64\u001b[0m)     │             \u001b[38;5;34m0\u001b[0m │\n",
              "├─────────────────────────────────┼────────────────────────┼───────────────┤\n",
              "│ flatten (\u001b[38;5;33mFlatten\u001b[0m)               │ (\u001b[38;5;45mNone\u001b[0m, \u001b[38;5;34m12544\u001b[0m)          │             \u001b[38;5;34m0\u001b[0m │\n",
              "├─────────────────────────────────┼────────────────────────┼───────────────┤\n",
              "│ dense (\u001b[38;5;33mDense\u001b[0m)                   │ (\u001b[38;5;45mNone\u001b[0m, \u001b[38;5;34m128\u001b[0m)            │     \u001b[38;5;34m1,605,760\u001b[0m │\n",
              "├─────────────────────────────────┼────────────────────────┼───────────────┤\n",
              "│ activation (\u001b[38;5;33mActivation\u001b[0m)         │ (\u001b[38;5;45mNone\u001b[0m, \u001b[38;5;34m128\u001b[0m)            │             \u001b[38;5;34m0\u001b[0m │\n",
              "├─────────────────────────────────┼────────────────────────┼───────────────┤\n",
              "│ dropout (\u001b[38;5;33mDropout\u001b[0m)               │ (\u001b[38;5;45mNone\u001b[0m, \u001b[38;5;34m128\u001b[0m)            │             \u001b[38;5;34m0\u001b[0m │\n",
              "├─────────────────────────────────┼────────────────────────┼───────────────┤\n",
              "│ dense_1 (\u001b[38;5;33mDense\u001b[0m)                 │ (\u001b[38;5;45mNone\u001b[0m, \u001b[38;5;34m1\u001b[0m)              │           \u001b[38;5;34m129\u001b[0m │\n",
              "├─────────────────────────────────┼────────────────────────┼───────────────┤\n",
              "│ activation_1 (\u001b[38;5;33mActivation\u001b[0m)       │ (\u001b[38;5;45mNone\u001b[0m, \u001b[38;5;34m1\u001b[0m)              │             \u001b[38;5;34m0\u001b[0m │\n",
              "└─────────────────────────────────┴────────────────────────┴───────────────┘\n"
            ]
          },
          "metadata": {},
          "output_type": "display_data"
        },
        {
          "data": {
            "text/html": [
              "<pre style=\"white-space:pre;overflow-x:auto;line-height:normal;font-family:Menlo,'DejaVu Sans Mono',consolas,'Courier New',monospace\"><span style=\"font-weight: bold\"> Total params: </span><span style=\"color: #00af00; text-decoration-color: #00af00\">1,662,209</span> (6.34 MB)\n",
              "</pre>\n"
            ],
            "text/plain": [
              "\u001b[1m Total params: \u001b[0m\u001b[38;5;34m1,662,209\u001b[0m (6.34 MB)\n"
            ]
          },
          "metadata": {},
          "output_type": "display_data"
        },
        {
          "data": {
            "text/html": [
              "<pre style=\"white-space:pre;overflow-x:auto;line-height:normal;font-family:Menlo,'DejaVu Sans Mono',consolas,'Courier New',monospace\"><span style=\"font-weight: bold\"> Trainable params: </span><span style=\"color: #00af00; text-decoration-color: #00af00\">1,662,209</span> (6.34 MB)\n",
              "</pre>\n"
            ],
            "text/plain": [
              "\u001b[1m Trainable params: \u001b[0m\u001b[38;5;34m1,662,209\u001b[0m (6.34 MB)\n"
            ]
          },
          "metadata": {},
          "output_type": "display_data"
        },
        {
          "data": {
            "text/html": [
              "<pre style=\"white-space:pre;overflow-x:auto;line-height:normal;font-family:Menlo,'DejaVu Sans Mono',consolas,'Courier New',monospace\"><span style=\"font-weight: bold\"> Non-trainable params: </span><span style=\"color: #00af00; text-decoration-color: #00af00\">0</span> (0.00 B)\n",
              "</pre>\n"
            ],
            "text/plain": [
              "\u001b[1m Non-trainable params: \u001b[0m\u001b[38;5;34m0\u001b[0m (0.00 B)\n"
            ]
          },
          "metadata": {},
          "output_type": "display_data"
        }
      ],
      "source": [
        "model1.summary()"
      ]
    },
    {
      "cell_type": "code",
      "execution_count": 71,
      "metadata": {
        "id": "MQEe7W01sl9W"
      },
      "outputs": [],
      "source": [
        "early_stop = EarlyStopping(monitor=\"val_loss\", patience=2, restore_best_weights=True)"
      ]
    },
    {
      "cell_type": "code",
      "execution_count": 72,
      "metadata": {
        "colab": {
          "base_uri": "https://localhost:8080/"
        },
        "id": "ptJFzuyvsl9X",
        "outputId": "d5af38ce-7a37-4957-a1d7-f837cb0d7190",
        "scrolled": true
      },
      "outputs": [
        {
          "name": "stdout",
          "output_type": "stream",
          "text": [
            "Epoch 1/10\n"
          ]
        },
        {
          "name": "stderr",
          "output_type": "stream",
          "text": [
            "/opt/anaconda3/envs/tf/lib/python3.10/site-packages/keras/src/trainers/data_adapters/py_dataset_adapter.py:121: UserWarning: Your `PyDataset` class should call `super().__init__(**kwargs)` in its constructor. `**kwargs` can include `workers`, `use_multiprocessing`, `max_queue_size`. Do not pass these arguments to `fit()`, as they will be ignored.\n",
            "  self._warn_if_super_not_called()\n"
          ]
        },
        {
          "name": "stdout",
          "output_type": "stream",
          "text": [
            "\u001b[1m780/780\u001b[0m \u001b[32m━━━━━━━━━━━━━━━━━━━━\u001b[0m\u001b[37m\u001b[0m \u001b[1m124s\u001b[0m 158ms/step - accuracy: 0.5469 - loss: 3.4964 - val_accuracy: 0.5865 - val_loss: 0.6741\n",
            "Epoch 2/10\n",
            "\u001b[1m780/780\u001b[0m \u001b[32m━━━━━━━━━━━━━━━━━━━━\u001b[0m\u001b[37m\u001b[0m \u001b[1m125s\u001b[0m 161ms/step - accuracy: 0.5884 - loss: 0.6730 - val_accuracy: 0.5696 - val_loss: 0.6881\n",
            "Epoch 3/10\n",
            "\u001b[1m780/780\u001b[0m \u001b[32m━━━━━━━━━━━━━━━━━━━━\u001b[0m\u001b[37m\u001b[0m \u001b[1m129s\u001b[0m 166ms/step - accuracy: 0.5997 - loss: 0.6659 - val_accuracy: 0.6323 - val_loss: 0.6513\n",
            "Epoch 4/10\n",
            "\u001b[1m780/780\u001b[0m \u001b[32m━━━━━━━━━━━━━━━━━━━━\u001b[0m\u001b[37m\u001b[0m \u001b[1m135s\u001b[0m 173ms/step - accuracy: 0.6087 - loss: 0.6613 - val_accuracy: 0.6281 - val_loss: 0.6623\n",
            "Epoch 5/10\n",
            "\u001b[1m780/780\u001b[0m \u001b[32m━━━━━━━━━━━━━━━━━━━━\u001b[0m\u001b[37m\u001b[0m \u001b[1m126s\u001b[0m 161ms/step - accuracy: 0.6344 - loss: 0.6404 - val_accuracy: 0.9273 - val_loss: 0.2156\n",
            "Epoch 6/10\n",
            "\u001b[1m780/780\u001b[0m \u001b[32m━━━━━━━━━━━━━━━━━━━━\u001b[0m\u001b[37m\u001b[0m \u001b[1m125s\u001b[0m 160ms/step - accuracy: 0.9219 - loss: 0.2480 - val_accuracy: 0.9431 - val_loss: 0.1885\n",
            "Epoch 7/10\n",
            "\u001b[1m780/780\u001b[0m \u001b[32m━━━━━━━━━━━━━━━━━━━━\u001b[0m\u001b[37m\u001b[0m \u001b[1m1057s\u001b[0m 1s/step - accuracy: 0.9414 - loss: 0.1929 - val_accuracy: 0.9546 - val_loss: 0.1448\n",
            "Epoch 8/10\n",
            "\u001b[1m780/780\u001b[0m \u001b[32m━━━━━━━━━━━━━━━━━━━━\u001b[0m\u001b[37m\u001b[0m \u001b[1m115s\u001b[0m 148ms/step - accuracy: 0.9439 - loss: 0.1804 - val_accuracy: 0.9523 - val_loss: 0.1620\n",
            "Epoch 9/10\n",
            "\u001b[1m780/780\u001b[0m \u001b[32m━━━━━━━━━━━━━━━━━━━━\u001b[0m\u001b[37m\u001b[0m \u001b[1m115s\u001b[0m 147ms/step - accuracy: 0.9445 - loss: 0.1767 - val_accuracy: 0.9504 - val_loss: 0.1740\n"
          ]
        },
        {
          "data": {
            "text/plain": [
              "<keras.src.callbacks.history.History at 0x3152c0e20>"
            ]
          },
          "execution_count": 72,
          "metadata": {},
          "output_type": "execute_result"
        }
      ],
      "source": [
        "model1.fit(\n",
        "    train_image_gen,\n",
        "    epochs=10,\n",
        "    steps_per_epoch=len(train_image_gen),\n",
        "    validation_data=test_image_gen,\n",
        "    validation_steps=len(test_image_gen),\n",
        "    callbacks=[early_stop],\n",
        ")"
      ]
    },
    {
      "cell_type": "code",
      "execution_count": 73,
      "metadata": {
        "id": "yUXSEkDLsl9X"
      },
      "outputs": [
        {
          "data": {
            "text/plain": [
              "['loss', 'compile_metrics']"
            ]
          },
          "execution_count": 73,
          "metadata": {},
          "output_type": "execute_result"
        }
      ],
      "source": [
        "model1.metrics_names"
      ]
    },
    {
      "cell_type": "code",
      "execution_count": 74,
      "metadata": {
        "id": "AIykzWBQsl9X"
      },
      "outputs": [
        {
          "data": {
            "text/html": [
              "<div>\n",
              "<style scoped>\n",
              "    .dataframe tbody tr th:only-of-type {\n",
              "        vertical-align: middle;\n",
              "    }\n",
              "\n",
              "    .dataframe tbody tr th {\n",
              "        vertical-align: top;\n",
              "    }\n",
              "\n",
              "    .dataframe thead th {\n",
              "        text-align: right;\n",
              "    }\n",
              "</style>\n",
              "<table border=\"1\" class=\"dataframe\">\n",
              "  <thead>\n",
              "    <tr style=\"text-align: right;\">\n",
              "      <th></th>\n",
              "      <th>accuracy</th>\n",
              "      <th>loss</th>\n",
              "      <th>val_accuracy</th>\n",
              "      <th>val_loss</th>\n",
              "    </tr>\n",
              "  </thead>\n",
              "  <tbody>\n",
              "    <tr>\n",
              "      <th>0</th>\n",
              "      <td>0.567</td>\n",
              "      <td>1.155</td>\n",
              "      <td>0.587</td>\n",
              "      <td>0.674</td>\n",
              "    </tr>\n",
              "    <tr>\n",
              "      <th>1</th>\n",
              "      <td>0.593</td>\n",
              "      <td>0.672</td>\n",
              "      <td>0.570</td>\n",
              "      <td>0.688</td>\n",
              "    </tr>\n",
              "    <tr>\n",
              "      <th>2</th>\n",
              "      <td>0.605</td>\n",
              "      <td>0.664</td>\n",
              "      <td>0.632</td>\n",
              "      <td>0.651</td>\n",
              "    </tr>\n",
              "    <tr>\n",
              "      <th>3</th>\n",
              "      <td>0.612</td>\n",
              "      <td>0.660</td>\n",
              "      <td>0.628</td>\n",
              "      <td>0.662</td>\n",
              "    </tr>\n",
              "    <tr>\n",
              "      <th>4</th>\n",
              "      <td>0.707</td>\n",
              "      <td>0.557</td>\n",
              "      <td>0.927</td>\n",
              "      <td>0.216</td>\n",
              "    </tr>\n",
              "  </tbody>\n",
              "</table>\n",
              "</div>"
            ],
            "text/plain": [
              "   accuracy  loss  val_accuracy  val_loss\n",
              "0     0.567 1.155         0.587     0.674\n",
              "1     0.593 0.672         0.570     0.688\n",
              "2     0.605 0.664         0.632     0.651\n",
              "3     0.612 0.660         0.628     0.662\n",
              "4     0.707 0.557         0.927     0.216"
            ]
          },
          "execution_count": 74,
          "metadata": {},
          "output_type": "execute_result"
        }
      ],
      "source": [
        "summary = pd.DataFrame(model1.history.history)\n",
        "summary.head()"
      ]
    },
    {
      "cell_type": "code",
      "execution_count": 75,
      "metadata": {
        "id": "Dcy3L5Whsl9X"
      },
      "outputs": [
        {
          "data": {
            "image/png": "[encoded data removed]",
            "text/plain": [
              "<Figure size 1000x600 with 1 Axes>"
            ]
          },
          "metadata": {},
          "output_type": "display_data"
        }
      ],
      "source": [
        "summary[[\"loss\", \"val_loss\"]].plot();"
      ]
    },
    {
      "cell_type": "code",
      "execution_count": 76,
      "metadata": {
        "id": "azs1F4o7sl9X"
      },
      "outputs": [
        {
          "data": {
            "image/png": "[encoded data removed]",
            "text/plain": [
              "<Figure size 1000x600 with 1 Axes>"
            ]
          },
          "metadata": {},
          "output_type": "display_data"
        }
      ],
      "source": [
        "summary[[\"accuracy\", \"val_accuracy\"]].plot();"
      ]
    },
    {
      "cell_type": "markdown",
      "metadata": {
        "id": "16_yfUk5sl9Y"
      },
      "source": [
        "# Evaluation on Test Data"
      ]
    },
    {
      "cell_type": "code",
      "execution_count": 77,
      "metadata": {
        "id": "Xz95GVTDsl9Y"
      },
      "outputs": [],
      "source": [
        "from sklearn.metrics import classification_report, confusion_matrix"
      ]
    },
    {
      "cell_type": "code",
      "execution_count": 78,
      "metadata": {
        "id": "mSBs8sNAsl9Y"
      },
      "outputs": [
        {
          "name": "stdout",
          "output_type": "stream",
          "text": [
            "\u001b[1m82/82\u001b[0m \u001b[32m━━━━━━━━━━━━━━━━━━━━\u001b[0m\u001b[37m\u001b[0m \u001b[1m3s\u001b[0m 36ms/step - accuracy: 0.9461 - loss: 0.1518\n",
            "Test loss: 0.14481046795845032\n",
            "Test accuracy: 0.9546154141426086\n"
          ]
        }
      ],
      "source": [
        "score = model1.evaluate(test_image_gen)\n",
        "print(\"Test loss:\", score[0])\n",
        "print(\"Test accuracy:\", score[1])"
      ]
    },
    {
      "cell_type": "code",
      "execution_count": 79,
      "metadata": {
        "id": "ZtAfDORssl9Y"
      },
      "outputs": [
        {
          "name": "stdout",
          "output_type": "stream",
          "text": [
            "\u001b[1m82/82\u001b[0m \u001b[32m━━━━━━━━━━━━━━━━━━━━\u001b[0m\u001b[37m\u001b[0m \u001b[1m3s\u001b[0m 36ms/step\n"
          ]
        }
      ],
      "source": [
        "pred_prob = model1.predict(test_image_gen)"
      ]
    },
    {
      "cell_type": "code",
      "execution_count": 80,
      "metadata": {
        "id": "5PfBiFPlsl9Y"
      },
      "outputs": [
        {
          "data": {
            "text/plain": [
              "array([[2.2887090e-05],\n",
              "       [1.2269797e-03],\n",
              "       [5.1943691e-05],\n",
              "       ...,\n",
              "       [9.9424189e-01],\n",
              "       [9.9212694e-01],\n",
              "       [9.8225611e-01]], shape=(2600, 1), dtype=float32)"
            ]
          },
          "execution_count": 80,
          "metadata": {},
          "output_type": "execute_result"
        }
      ],
      "source": [
        "pred_prob"
      ]
    },
    {
      "cell_type": "code",
      "execution_count": 81,
      "metadata": {
        "id": "qwF2D32fsl9Z"
      },
      "outputs": [],
      "source": [
        "y_pred = pred_prob > 0.5"
      ]
    },
    {
      "cell_type": "code",
      "execution_count": 82,
      "metadata": {
        "id": "EP0FHhTSsl9Z"
      },
      "outputs": [
        {
          "data": {
            "text/plain": [
              "array([[False],\n",
              "       [False],\n",
              "       [False],\n",
              "       ...,\n",
              "       [ True],\n",
              "       [ True],\n",
              "       [ True]], shape=(2600, 1))"
            ]
          },
          "execution_count": 82,
          "metadata": {},
          "output_type": "execute_result"
        }
      ],
      "source": [
        "y_pred"
      ]
    },
    {
      "cell_type": "code",
      "execution_count": 83,
      "metadata": {
        "id": "BfPUSYHxsl9a"
      },
      "outputs": [
        {
          "data": {
            "text/plain": [
              "array([0, 0, 0, ..., 1, 1, 1], shape=(2600,), dtype=int32)"
            ]
          },
          "execution_count": 83,
          "metadata": {},
          "output_type": "execute_result"
        }
      ],
      "source": [
        "y_test = test_image_gen.classes\n",
        "y_test"
      ]
    },
    {
      "cell_type": "code",
      "execution_count": 84,
      "metadata": {
        "id": "DWwI79g1sl9a"
      },
      "outputs": [
        {
          "name": "stdout",
          "output_type": "stream",
          "text": [
            "              precision    recall  f1-score   support\n",
            "\n",
            "           0       0.96      0.94      0.95      1300\n",
            "           1       0.95      0.96      0.96      1300\n",
            "\n",
            "    accuracy                           0.95      2600\n",
            "   macro avg       0.95      0.95      0.95      2600\n",
            "weighted avg       0.95      0.95      0.95      2600\n",
            "\n"
          ]
        }
      ],
      "source": [
        "print(classification_report(y_test, y_pred))"
      ]
    },
    {
      "cell_type": "code",
      "execution_count": 85,
      "metadata": {
        "id": "KlUFu_UHsl9b",
        "tags": []
      },
      "outputs": [
        {
          "data": {
            "text/plain": [
              "array([[1228,   72],\n",
              "       [  46, 1254]])"
            ]
          },
          "execution_count": 85,
          "metadata": {},
          "output_type": "execute_result"
        }
      ],
      "source": [
        "confusion_matrix(y_test, y_pred)"
      ]
    },
    {
      "cell_type": "markdown",
      "metadata": {
        "id": "lPIenRrysl9b"
      },
      "source": [
        "# Modelling-2"
      ]
    },
    {
      "cell_type": "code",
      "execution_count": 86,
      "metadata": {
        "id": "6Dnzknlxsl9b"
      },
      "outputs": [
        {
          "name": "stderr",
          "output_type": "stream",
          "text": [
            "/opt/anaconda3/envs/tf/lib/python3.10/site-packages/keras/src/layers/convolutional/base_conv.py:107: UserWarning: Do not pass an `input_shape`/`input_dim` argument to a layer. When using Sequential models, prefer using an `Input(shape)` object as the first layer in the model instead.\n",
            "  super().__init__(activity_regularizer=activity_regularizer, **kwargs)\n"
          ]
        }
      ],
      "source": [
        "model2 = Sequential()\n",
        "\n",
        "model2.add(\n",
        "    Conv2D(\n",
        "        filters=64,\n",
        "        kernel_size=(3, 3),\n",
        "        input_shape=image_shape,\n",
        "        padding=\"same\",\n",
        "        activation=\"relu\",\n",
        "    )\n",
        ")\n",
        "model2.add(MaxPooling2D(pool_size=(2, 2)))\n",
        "\n",
        "model2.add(Conv2D(filters=128, kernel_size=(3, 3), padding=\"same\", activation=\"relu\"))\n",
        "model2.add(Conv2D(filters=128, kernel_size=(3, 3), padding=\"same\", activation=\"relu\"))\n",
        "model2.add(MaxPooling2D(pool_size=(2, 2)))\n",
        "\n",
        "model2.add(Conv2D(filters=256, kernel_size=(3, 3), padding=\"same\", activation=\"relu\"))\n",
        "model2.add(Conv2D(filters=256, kernel_size=(3, 3), padding=\"same\", activation=\"relu\"))\n",
        "model2.add(Conv2D(filters=256, kernel_size=(3, 3), padding=\"same\", activation=\"relu\"))\n",
        "model2.add(MaxPooling2D(pool_size=(2, 2)))\n",
        "\n",
        "model2.add(Conv2D(filters=128, kernel_size=(3, 3), padding=\"same\", activation=\"relu\"))\n",
        "model2.add(MaxPooling2D(pool_size=(2, 2)))\n",
        "\n",
        "model2.add(Conv2D(filters=64, kernel_size=(3, 3), padding=\"same\", activation=\"relu\"))\n",
        "model2.add(MaxPooling2D(pool_size=(2, 2)))\n",
        "\n",
        "\n",
        "model2.add(Flatten())\n",
        "\n",
        "\n",
        "model2.add(Dense(128))\n",
        "model2.add(Activation(\"relu\"))\n",
        "model2.add(Dropout(0.5))\n",
        "\n",
        "model2.add(Dense(1))\n",
        "model2.add(Activation(\"sigmoid\"))\n",
        "\n",
        "model2.compile(loss=\"binary_crossentropy\", optimizer=\"adam\", metrics=[\"accuracy\"])"
      ]
    },
    {
      "cell_type": "code",
      "execution_count": 87,
      "metadata": {
        "id": "waeAEJGSsl9c"
      },
      "outputs": [
        {
          "data": {
            "text/html": [
              "<pre style=\"white-space:pre;overflow-x:auto;line-height:normal;font-family:Menlo,'DejaVu Sans Mono',consolas,'Courier New',monospace\"><span style=\"font-weight: bold\">Model: \"sequential_1\"</span>\n",
              "</pre>\n"
            ],
            "text/plain": [
              "\u001b[1mModel: \"sequential_1\"\u001b[0m\n"
            ]
          },
          "metadata": {},
          "output_type": "display_data"
        },
        {
          "data": {
            "text/html": [
              "<pre style=\"white-space:pre;overflow-x:auto;line-height:normal;font-family:Menlo,'DejaVu Sans Mono',consolas,'Courier New',monospace\">┏━━━━━━━━━━━━━━━━━━━━━━━━━━━━━━━━━┳━━━━━━━━━━━━━━━━━━━━━━━━┳━━━━━━━━━━━━━━━┓\n",
              "┃<span style=\"font-weight: bold\"> Layer (type)                    </span>┃<span style=\"font-weight: bold\"> Output Shape           </span>┃<span style=\"font-weight: bold\">       Param # </span>┃\n",
              "┡━━━━━━━━━━━━━━━━━━━━━━━━━━━━━━━━━╇━━━━━━━━━━━━━━━━━━━━━━━━╇━━━━━━━━━━━━━━━┩\n",
              "│ conv2d_3 (<span style=\"color: #0087ff; text-decoration-color: #0087ff\">Conv2D</span>)               │ (<span style=\"color: #00d7ff; text-decoration-color: #00d7ff\">None</span>, <span style=\"color: #00af00; text-decoration-color: #00af00\">130</span>, <span style=\"color: #00af00; text-decoration-color: #00af00\">130</span>, <span style=\"color: #00af00; text-decoration-color: #00af00\">64</span>)   │         <span style=\"color: #00af00; text-decoration-color: #00af00\">1,792</span> │\n",
              "├─────────────────────────────────┼────────────────────────┼───────────────┤\n",
              "│ max_pooling2d_3 (<span style=\"color: #0087ff; text-decoration-color: #0087ff\">MaxPooling2D</span>)  │ (<span style=\"color: #00d7ff; text-decoration-color: #00d7ff\">None</span>, <span style=\"color: #00af00; text-decoration-color: #00af00\">65</span>, <span style=\"color: #00af00; text-decoration-color: #00af00\">65</span>, <span style=\"color: #00af00; text-decoration-color: #00af00\">64</span>)     │             <span style=\"color: #00af00; text-decoration-color: #00af00\">0</span> │\n",
              "├─────────────────────────────────┼────────────────────────┼───────────────┤\n",
              "│ conv2d_4 (<span style=\"color: #0087ff; text-decoration-color: #0087ff\">Conv2D</span>)               │ (<span style=\"color: #00d7ff; text-decoration-color: #00d7ff\">None</span>, <span style=\"color: #00af00; text-decoration-color: #00af00\">65</span>, <span style=\"color: #00af00; text-decoration-color: #00af00\">65</span>, <span style=\"color: #00af00; text-decoration-color: #00af00\">128</span>)    │        <span style=\"color: #00af00; text-decoration-color: #00af00\">73,856</span> │\n",
              "├─────────────────────────────────┼────────────────────────┼───────────────┤\n",
              "│ conv2d_5 (<span style=\"color: #0087ff; text-decoration-color: #0087ff\">Conv2D</span>)               │ (<span style=\"color: #00d7ff; text-decoration-color: #00d7ff\">None</span>, <span style=\"color: #00af00; text-decoration-color: #00af00\">65</span>, <span style=\"color: #00af00; text-decoration-color: #00af00\">65</span>, <span style=\"color: #00af00; text-decoration-color: #00af00\">128</span>)    │       <span style=\"color: #00af00; text-decoration-color: #00af00\">147,584</span> │\n",
              "├─────────────────────────────────┼────────────────────────┼───────────────┤\n",
              "│ max_pooling2d_4 (<span style=\"color: #0087ff; text-decoration-color: #0087ff\">MaxPooling2D</span>)  │ (<span style=\"color: #00d7ff; text-decoration-color: #00d7ff\">None</span>, <span style=\"color: #00af00; text-decoration-color: #00af00\">32</span>, <span style=\"color: #00af00; text-decoration-color: #00af00\">32</span>, <span style=\"color: #00af00; text-decoration-color: #00af00\">128</span>)    │             <span style=\"color: #00af00; text-decoration-color: #00af00\">0</span> │\n",
              "├─────────────────────────────────┼────────────────────────┼───────────────┤\n",
              "│ conv2d_6 (<span style=\"color: #0087ff; text-decoration-color: #0087ff\">Conv2D</span>)               │ (<span style=\"color: #00d7ff; text-decoration-color: #00d7ff\">None</span>, <span style=\"color: #00af00; text-decoration-color: #00af00\">32</span>, <span style=\"color: #00af00; text-decoration-color: #00af00\">32</span>, <span style=\"color: #00af00; text-decoration-color: #00af00\">256</span>)    │       <span style=\"color: #00af00; text-decoration-color: #00af00\">295,168</span> │\n",
              "├─────────────────────────────────┼────────────────────────┼───────────────┤\n",
              "│ conv2d_7 (<span style=\"color: #0087ff; text-decoration-color: #0087ff\">Conv2D</span>)               │ (<span style=\"color: #00d7ff; text-decoration-color: #00d7ff\">None</span>, <span style=\"color: #00af00; text-decoration-color: #00af00\">32</span>, <span style=\"color: #00af00; text-decoration-color: #00af00\">32</span>, <span style=\"color: #00af00; text-decoration-color: #00af00\">256</span>)    │       <span style=\"color: #00af00; text-decoration-color: #00af00\">590,080</span> │\n",
              "├─────────────────────────────────┼────────────────────────┼───────────────┤\n",
              "│ conv2d_8 (<span style=\"color: #0087ff; text-decoration-color: #0087ff\">Conv2D</span>)               │ (<span style=\"color: #00d7ff; text-decoration-color: #00d7ff\">None</span>, <span style=\"color: #00af00; text-decoration-color: #00af00\">32</span>, <span style=\"color: #00af00; text-decoration-color: #00af00\">32</span>, <span style=\"color: #00af00; text-decoration-color: #00af00\">256</span>)    │       <span style=\"color: #00af00; text-decoration-color: #00af00\">590,080</span> │\n",
              "├─────────────────────────────────┼────────────────────────┼───────────────┤\n",
              "│ max_pooling2d_5 (<span style=\"color: #0087ff; text-decoration-color: #0087ff\">MaxPooling2D</span>)  │ (<span style=\"color: #00d7ff; text-decoration-color: #00d7ff\">None</span>, <span style=\"color: #00af00; text-decoration-color: #00af00\">16</span>, <span style=\"color: #00af00; text-decoration-color: #00af00\">16</span>, <span style=\"color: #00af00; text-decoration-color: #00af00\">256</span>)    │             <span style=\"color: #00af00; text-decoration-color: #00af00\">0</span> │\n",
              "├─────────────────────────────────┼────────────────────────┼───────────────┤\n",
              "│ conv2d_9 (<span style=\"color: #0087ff; text-decoration-color: #0087ff\">Conv2D</span>)               │ (<span style=\"color: #00d7ff; text-decoration-color: #00d7ff\">None</span>, <span style=\"color: #00af00; text-decoration-color: #00af00\">16</span>, <span style=\"color: #00af00; text-decoration-color: #00af00\">16</span>, <span style=\"color: #00af00; text-decoration-color: #00af00\">128</span>)    │       <span style=\"color: #00af00; text-decoration-color: #00af00\">295,040</span> │\n",
              "├─────────────────────────────────┼────────────────────────┼───────────────┤\n",
              "│ max_pooling2d_6 (<span style=\"color: #0087ff; text-decoration-color: #0087ff\">MaxPooling2D</span>)  │ (<span style=\"color: #00d7ff; text-decoration-color: #00d7ff\">None</span>, <span style=\"color: #00af00; text-decoration-color: #00af00\">8</span>, <span style=\"color: #00af00; text-decoration-color: #00af00\">8</span>, <span style=\"color: #00af00; text-decoration-color: #00af00\">128</span>)      │             <span style=\"color: #00af00; text-decoration-color: #00af00\">0</span> │\n",
              "├─────────────────────────────────┼────────────────────────┼───────────────┤\n",
              "│ conv2d_10 (<span style=\"color: #0087ff; text-decoration-color: #0087ff\">Conv2D</span>)              │ (<span style=\"color: #00d7ff; text-decoration-color: #00d7ff\">None</span>, <span style=\"color: #00af00; text-decoration-color: #00af00\">8</span>, <span style=\"color: #00af00; text-decoration-color: #00af00\">8</span>, <span style=\"color: #00af00; text-decoration-color: #00af00\">64</span>)       │        <span style=\"color: #00af00; text-decoration-color: #00af00\">73,792</span> │\n",
              "├─────────────────────────────────┼────────────────────────┼───────────────┤\n",
              "│ max_pooling2d_7 (<span style=\"color: #0087ff; text-decoration-color: #0087ff\">MaxPooling2D</span>)  │ (<span style=\"color: #00d7ff; text-decoration-color: #00d7ff\">None</span>, <span style=\"color: #00af00; text-decoration-color: #00af00\">4</span>, <span style=\"color: #00af00; text-decoration-color: #00af00\">4</span>, <span style=\"color: #00af00; text-decoration-color: #00af00\">64</span>)       │             <span style=\"color: #00af00; text-decoration-color: #00af00\">0</span> │\n",
              "├─────────────────────────────────┼────────────────────────┼───────────────┤\n",
              "│ flatten_1 (<span style=\"color: #0087ff; text-decoration-color: #0087ff\">Flatten</span>)             │ (<span style=\"color: #00d7ff; text-decoration-color: #00d7ff\">None</span>, <span style=\"color: #00af00; text-decoration-color: #00af00\">1024</span>)           │             <span style=\"color: #00af00; text-decoration-color: #00af00\">0</span> │\n",
              "├─────────────────────────────────┼────────────────────────┼───────────────┤\n",
              "│ dense_2 (<span style=\"color: #0087ff; text-decoration-color: #0087ff\">Dense</span>)                 │ (<span style=\"color: #00d7ff; text-decoration-color: #00d7ff\">None</span>, <span style=\"color: #00af00; text-decoration-color: #00af00\">128</span>)            │       <span style=\"color: #00af00; text-decoration-color: #00af00\">131,200</span> │\n",
              "├─────────────────────────────────┼────────────────────────┼───────────────┤\n",
              "│ activation_2 (<span style=\"color: #0087ff; text-decoration-color: #0087ff\">Activation</span>)       │ (<span style=\"color: #00d7ff; text-decoration-color: #00d7ff\">None</span>, <span style=\"color: #00af00; text-decoration-color: #00af00\">128</span>)            │             <span style=\"color: #00af00; text-decoration-color: #00af00\">0</span> │\n",
              "├─────────────────────────────────┼────────────────────────┼───────────────┤\n",
              "│ dropout_1 (<span style=\"color: #0087ff; text-decoration-color: #0087ff\">Dropout</span>)             │ (<span style=\"color: #00d7ff; text-decoration-color: #00d7ff\">None</span>, <span style=\"color: #00af00; text-decoration-color: #00af00\">128</span>)            │             <span style=\"color: #00af00; text-decoration-color: #00af00\">0</span> │\n",
              "├─────────────────────────────────┼────────────────────────┼───────────────┤\n",
              "│ dense_3 (<span style=\"color: #0087ff; text-decoration-color: #0087ff\">Dense</span>)                 │ (<span style=\"color: #00d7ff; text-decoration-color: #00d7ff\">None</span>, <span style=\"color: #00af00; text-decoration-color: #00af00\">1</span>)              │           <span style=\"color: #00af00; text-decoration-color: #00af00\">129</span> │\n",
              "├─────────────────────────────────┼────────────────────────┼───────────────┤\n",
              "│ activation_3 (<span style=\"color: #0087ff; text-decoration-color: #0087ff\">Activation</span>)       │ (<span style=\"color: #00d7ff; text-decoration-color: #00d7ff\">None</span>, <span style=\"color: #00af00; text-decoration-color: #00af00\">1</span>)              │             <span style=\"color: #00af00; text-decoration-color: #00af00\">0</span> │\n",
              "└─────────────────────────────────┴────────────────────────┴───────────────┘\n",
              "</pre>\n"
            ],
            "text/plain": [
              "┏━━━━━━━━━━━━━━━━━━━━━━━━━━━━━━━━━┳━━━━━━━━━━━━━━━━━━━━━━━━┳━━━━━━━━━━━━━━━┓\n",
              "┃\u001b[1m \u001b[0m\u001b[1mLayer (type)                   \u001b[0m\u001b[1m \u001b[0m┃\u001b[1m \u001b[0m\u001b[1mOutput Shape          \u001b[0m\u001b[1m \u001b[0m┃\u001b[1m \u001b[0m\u001b[1m      Param #\u001b[0m\u001b[1m \u001b[0m┃\n",
              "┡━━━━━━━━━━━━━━━━━━━━━━━━━━━━━━━━━╇━━━━━━━━━━━━━━━━━━━━━━━━╇━━━━━━━━━━━━━━━┩\n",
              "│ conv2d_3 (\u001b[38;5;33mConv2D\u001b[0m)               │ (\u001b[38;5;45mNone\u001b[0m, \u001b[38;5;34m130\u001b[0m, \u001b[38;5;34m130\u001b[0m, \u001b[38;5;34m64\u001b[0m)   │         \u001b[38;5;34m1,792\u001b[0m │\n",
              "├─────────────────────────────────┼────────────────────────┼───────────────┤\n",
              "│ max_pooling2d_3 (\u001b[38;5;33mMaxPooling2D\u001b[0m)  │ (\u001b[38;5;45mNone\u001b[0m, \u001b[38;5;34m65\u001b[0m, \u001b[38;5;34m65\u001b[0m, \u001b[38;5;34m64\u001b[0m)     │             \u001b[38;5;34m0\u001b[0m │\n",
              "├─────────────────────────────────┼────────────────────────┼───────────────┤\n",
              "│ conv2d_4 (\u001b[38;5;33mConv2D\u001b[0m)               │ (\u001b[38;5;45mNone\u001b[0m, \u001b[38;5;34m65\u001b[0m, \u001b[38;5;34m65\u001b[0m, \u001b[38;5;34m128\u001b[0m)    │        \u001b[38;5;34m73,856\u001b[0m │\n",
              "├─────────────────────────────────┼────────────────────────┼───────────────┤\n",
              "│ conv2d_5 (\u001b[38;5;33mConv2D\u001b[0m)               │ (\u001b[38;5;45mNone\u001b[0m, \u001b[38;5;34m65\u001b[0m, \u001b[38;5;34m65\u001b[0m, \u001b[38;5;34m128\u001b[0m)    │       \u001b[38;5;34m147,584\u001b[0m │\n",
              "├─────────────────────────────────┼────────────────────────┼───────────────┤\n",
              "│ max_pooling2d_4 (\u001b[38;5;33mMaxPooling2D\u001b[0m)  │ (\u001b[38;5;45mNone\u001b[0m, \u001b[38;5;34m32\u001b[0m, \u001b[38;5;34m32\u001b[0m, \u001b[38;5;34m128\u001b[0m)    │             \u001b[38;5;34m0\u001b[0m │\n",
              "├─────────────────────────────────┼────────────────────────┼───────────────┤\n",
              "│ conv2d_6 (\u001b[38;5;33mConv2D\u001b[0m)               │ (\u001b[38;5;45mNone\u001b[0m, \u001b[38;5;34m32\u001b[0m, \u001b[38;5;34m32\u001b[0m, \u001b[38;5;34m256\u001b[0m)    │       \u001b[38;5;34m295,168\u001b[0m │\n",
              "├─────────────────────────────────┼────────────────────────┼───────────────┤\n",
              "│ conv2d_7 (\u001b[38;5;33mConv2D\u001b[0m)               │ (\u001b[38;5;45mNone\u001b[0m, \u001b[38;5;34m32\u001b[0m, \u001b[38;5;34m32\u001b[0m, \u001b[38;5;34m256\u001b[0m)    │       \u001b[38;5;34m590,080\u001b[0m │\n",
              "├─────────────────────────────────┼────────────────────────┼───────────────┤\n",
              "│ conv2d_8 (\u001b[38;5;33mConv2D\u001b[0m)               │ (\u001b[38;5;45mNone\u001b[0m, \u001b[38;5;34m32\u001b[0m, \u001b[38;5;34m32\u001b[0m, \u001b[38;5;34m256\u001b[0m)    │       \u001b[38;5;34m590,080\u001b[0m │\n",
              "├─────────────────────────────────┼────────────────────────┼───────────────┤\n",
              "│ max_pooling2d_5 (\u001b[38;5;33mMaxPooling2D\u001b[0m)  │ (\u001b[38;5;45mNone\u001b[0m, \u001b[38;5;34m16\u001b[0m, \u001b[38;5;34m16\u001b[0m, \u001b[38;5;34m256\u001b[0m)    │             \u001b[38;5;34m0\u001b[0m │\n",
              "├─────────────────────────────────┼────────────────────────┼───────────────┤\n",
              "│ conv2d_9 (\u001b[38;5;33mConv2D\u001b[0m)               │ (\u001b[38;5;45mNone\u001b[0m, \u001b[38;5;34m16\u001b[0m, \u001b[38;5;34m16\u001b[0m, \u001b[38;5;34m128\u001b[0m)    │       \u001b[38;5;34m295,040\u001b[0m │\n",
              "├─────────────────────────────────┼────────────────────────┼───────────────┤\n",
              "│ max_pooling2d_6 (\u001b[38;5;33mMaxPooling2D\u001b[0m)  │ (\u001b[38;5;45mNone\u001b[0m, \u001b[38;5;34m8\u001b[0m, \u001b[38;5;34m8\u001b[0m, \u001b[38;5;34m128\u001b[0m)      │             \u001b[38;5;34m0\u001b[0m │\n",
              "├─────────────────────────────────┼────────────────────────┼───────────────┤\n",
              "│ conv2d_10 (\u001b[38;5;33mConv2D\u001b[0m)              │ (\u001b[38;5;45mNone\u001b[0m, \u001b[38;5;34m8\u001b[0m, \u001b[38;5;34m8\u001b[0m, \u001b[38;5;34m64\u001b[0m)       │        \u001b[38;5;34m73,792\u001b[0m │\n",
              "├─────────────────────────────────┼────────────────────────┼───────────────┤\n",
              "│ max_pooling2d_7 (\u001b[38;5;33mMaxPooling2D\u001b[0m)  │ (\u001b[38;5;45mNone\u001b[0m, \u001b[38;5;34m4\u001b[0m, \u001b[38;5;34m4\u001b[0m, \u001b[38;5;34m64\u001b[0m)       │             \u001b[38;5;34m0\u001b[0m │\n",
              "├─────────────────────────────────┼────────────────────────┼───────────────┤\n",
              "│ flatten_1 (\u001b[38;5;33mFlatten\u001b[0m)             │ (\u001b[38;5;45mNone\u001b[0m, \u001b[38;5;34m1024\u001b[0m)           │             \u001b[38;5;34m0\u001b[0m │\n",
              "├─────────────────────────────────┼────────────────────────┼───────────────┤\n",
              "│ dense_2 (\u001b[38;5;33mDense\u001b[0m)                 │ (\u001b[38;5;45mNone\u001b[0m, \u001b[38;5;34m128\u001b[0m)            │       \u001b[38;5;34m131,200\u001b[0m │\n",
              "├─────────────────────────────────┼────────────────────────┼───────────────┤\n",
              "│ activation_2 (\u001b[38;5;33mActivation\u001b[0m)       │ (\u001b[38;5;45mNone\u001b[0m, \u001b[38;5;34m128\u001b[0m)            │             \u001b[38;5;34m0\u001b[0m │\n",
              "├─────────────────────────────────┼────────────────────────┼───────────────┤\n",
              "│ dropout_1 (\u001b[38;5;33mDropout\u001b[0m)             │ (\u001b[38;5;45mNone\u001b[0m, \u001b[38;5;34m128\u001b[0m)            │             \u001b[38;5;34m0\u001b[0m │\n",
              "├─────────────────────────────────┼────────────────────────┼───────────────┤\n",
              "│ dense_3 (\u001b[38;5;33mDense\u001b[0m)                 │ (\u001b[38;5;45mNone\u001b[0m, \u001b[38;5;34m1\u001b[0m)              │           \u001b[38;5;34m129\u001b[0m │\n",
              "├─────────────────────────────────┼────────────────────────┼───────────────┤\n",
              "│ activation_3 (\u001b[38;5;33mActivation\u001b[0m)       │ (\u001b[38;5;45mNone\u001b[0m, \u001b[38;5;34m1\u001b[0m)              │             \u001b[38;5;34m0\u001b[0m │\n",
              "└─────────────────────────────────┴────────────────────────┴───────────────┘\n"
            ]
          },
          "metadata": {},
          "output_type": "display_data"
        },
        {
          "data": {
            "text/html": [
              "<pre style=\"white-space:pre;overflow-x:auto;line-height:normal;font-family:Menlo,'DejaVu Sans Mono',consolas,'Courier New',monospace\"><span style=\"font-weight: bold\"> Total params: </span><span style=\"color: #00af00; text-decoration-color: #00af00\">2,198,721</span> (8.39 MB)\n",
              "</pre>\n"
            ],
            "text/plain": [
              "\u001b[1m Total params: \u001b[0m\u001b[38;5;34m2,198,721\u001b[0m (8.39 MB)\n"
            ]
          },
          "metadata": {},
          "output_type": "display_data"
        },
        {
          "data": {
            "text/html": [
              "<pre style=\"white-space:pre;overflow-x:auto;line-height:normal;font-family:Menlo,'DejaVu Sans Mono',consolas,'Courier New',monospace\"><span style=\"font-weight: bold\"> Trainable params: </span><span style=\"color: #00af00; text-decoration-color: #00af00\">2,198,721</span> (8.39 MB)\n",
              "</pre>\n"
            ],
            "text/plain": [
              "\u001b[1m Trainable params: \u001b[0m\u001b[38;5;34m2,198,721\u001b[0m (8.39 MB)\n"
            ]
          },
          "metadata": {},
          "output_type": "display_data"
        },
        {
          "data": {
            "text/html": [
              "<pre style=\"white-space:pre;overflow-x:auto;line-height:normal;font-family:Menlo,'DejaVu Sans Mono',consolas,'Courier New',monospace\"><span style=\"font-weight: bold\"> Non-trainable params: </span><span style=\"color: #00af00; text-decoration-color: #00af00\">0</span> (0.00 B)\n",
              "</pre>\n"
            ],
            "text/plain": [
              "\u001b[1m Non-trainable params: \u001b[0m\u001b[38;5;34m0\u001b[0m (0.00 B)\n"
            ]
          },
          "metadata": {},
          "output_type": "display_data"
        }
      ],
      "source": [
        "model2.summary()"
      ]
    },
    {
      "cell_type": "code",
      "execution_count": 88,
      "metadata": {
        "id": "tLSLjgiPsl9c"
      },
      "outputs": [],
      "source": [
        "early_stop = EarlyStopping(monitor=\"val_loss\", patience=4, restore_best_weights=True)"
      ]
    },
    {
      "cell_type": "code",
      "execution_count": 89,
      "metadata": {
        "id": "mVbSg-qLsl9c",
        "scrolled": true
      },
      "outputs": [
        {
          "name": "stdout",
          "output_type": "stream",
          "text": [
            "Epoch 1/15\n",
            "\u001b[1m780/780\u001b[0m \u001b[32m━━━━━━━━━━━━━━━━━━━━\u001b[0m\u001b[37m\u001b[0m \u001b[1m3010s\u001b[0m 4s/step - accuracy: 0.5100 - loss: 1.0469 - val_accuracy: 0.5000 - val_loss: 0.6930\n",
            "Epoch 2/15\n",
            "\u001b[1m780/780\u001b[0m \u001b[32m━━━━━━━━━━━━━━━━━━━━\u001b[0m\u001b[37m\u001b[0m \u001b[1m2382s\u001b[0m 3s/step - accuracy: 0.5219 - loss: 0.6968 - val_accuracy: 0.5000 - val_loss: 0.6924\n",
            "Epoch 3/15\n",
            "\u001b[1m780/780\u001b[0m \u001b[32m━━━━━━━━━━━━━━━━━━━━\u001b[0m\u001b[37m\u001b[0m \u001b[1m897s\u001b[0m 1s/step - accuracy: 0.5216 - loss: 0.6929 - val_accuracy: 0.5650 - val_loss: 0.6925\n",
            "Epoch 4/15\n",
            "\u001b[1m780/780\u001b[0m \u001b[32m━━━━━━━━━━━━━━━━━━━━\u001b[0m\u001b[37m\u001b[0m \u001b[1m911s\u001b[0m 1s/step - accuracy: 0.5237 - loss: 0.6916 - val_accuracy: 0.5623 - val_loss: 0.6920\n",
            "Epoch 5/15\n",
            "\u001b[1m780/780\u001b[0m \u001b[32m━━━━━━━━━━━━━━━━━━━━\u001b[0m\u001b[37m\u001b[0m \u001b[1m904s\u001b[0m 1s/step - accuracy: 0.7794 - loss: 0.4547 - val_accuracy: 0.9350 - val_loss: 0.1873\n",
            "Epoch 6/15\n",
            "\u001b[1m780/780\u001b[0m \u001b[32m━━━━━━━━━━━━━━━━━━━━\u001b[0m\u001b[37m\u001b[0m \u001b[1m905s\u001b[0m 1s/step - accuracy: 0.9443 - loss: 0.1809 - val_accuracy: 0.9442 - val_loss: 0.2028\n",
            "Epoch 7/15\n",
            "\u001b[1m780/780\u001b[0m \u001b[32m━━━━━━━━━━━━━━━━━━━━\u001b[0m\u001b[37m\u001b[0m \u001b[1m888s\u001b[0m 1s/step - accuracy: 0.9503 - loss: 0.1661 - val_accuracy: 0.9481 - val_loss: 0.1844\n",
            "Epoch 8/15\n",
            "\u001b[1m780/780\u001b[0m \u001b[32m━━━━━━━━━━━━━━━━━━━━\u001b[0m\u001b[37m\u001b[0m \u001b[1m902s\u001b[0m 1s/step - accuracy: 0.9507 - loss: 0.1674 - val_accuracy: 0.9392 - val_loss: 0.1912\n",
            "Epoch 9/15\n",
            "\u001b[1m780/780\u001b[0m \u001b[32m━━━━━━━━━━━━━━━━━━━━\u001b[0m\u001b[37m\u001b[0m \u001b[1m901s\u001b[0m 1s/step - accuracy: 0.9453 - loss: 0.1805 - val_accuracy: 0.9450 - val_loss: 0.1560\n",
            "Epoch 10/15\n",
            "\u001b[1m780/780\u001b[0m \u001b[32m━━━━━━━━━━━━━━━━━━━━\u001b[0m\u001b[37m\u001b[0m \u001b[1m881s\u001b[0m 1s/step - accuracy: 0.9515 - loss: 0.1614 - val_accuracy: 0.9512 - val_loss: 0.1532\n",
            "Epoch 11/15\n",
            "\u001b[1m780/780\u001b[0m \u001b[32m━━━━━━━━━━━━━━━━━━━━\u001b[0m\u001b[37m\u001b[0m \u001b[1m897s\u001b[0m 1s/step - accuracy: 0.9543 - loss: 0.1605 - val_accuracy: 0.9512 - val_loss: 0.1587\n",
            "Epoch 12/15\n",
            "\u001b[1m780/780\u001b[0m \u001b[32m━━━━━━━━━━━━━━━━━━━━\u001b[0m\u001b[37m\u001b[0m \u001b[1m914s\u001b[0m 1s/step - accuracy: 0.9548 - loss: 0.1533 - val_accuracy: 0.9531 - val_loss: 0.1454\n",
            "Epoch 13/15\n",
            "\u001b[1m780/780\u001b[0m \u001b[32m━━━━━━━━━━━━━━━━━━━━\u001b[0m\u001b[37m\u001b[0m \u001b[1m900s\u001b[0m 1s/step - accuracy: 0.9506 - loss: 0.1560 - val_accuracy: 0.9488 - val_loss: 0.1552\n",
            "Epoch 14/15\n",
            "\u001b[1m780/780\u001b[0m \u001b[32m━━━━━━━━━━━━━━━━━━━━\u001b[0m\u001b[37m\u001b[0m \u001b[1m919s\u001b[0m 1s/step - accuracy: 0.9545 - loss: 0.1478 - val_accuracy: 0.9527 - val_loss: 0.1397\n",
            "Epoch 15/15\n",
            "\u001b[1m780/780\u001b[0m \u001b[32m━━━━━━━━━━━━━━━━━━━━\u001b[0m\u001b[37m\u001b[0m \u001b[1m928s\u001b[0m 1s/step - accuracy: 0.9561 - loss: 0.1461 - val_accuracy: 0.9527 - val_loss: 0.1535\n"
          ]
        },
        {
          "data": {
            "text/plain": [
              "<keras.src.callbacks.history.History at 0x158844e80>"
            ]
          },
          "execution_count": 89,
          "metadata": {},
          "output_type": "execute_result"
        }
      ],
      "source": [
        "model2.fit(\n",
        "    train_image_gen,\n",
        "    epochs=15,\n",
        "    steps_per_epoch=len(train_image_gen),\n",
        "    validation_data=test_image_gen,\n",
        "    validation_steps=len(test_image_gen),\n",
        "    callbacks=[early_stop],\n",
        ")"
      ]
    },
    {
      "cell_type": "code",
      "execution_count": 90,
      "metadata": {
        "id": "CiIRPi0qsl9c"
      },
      "outputs": [
        {
          "data": {
            "text/plain": [
              "['loss', 'compile_metrics']"
            ]
          },
          "execution_count": 90,
          "metadata": {},
          "output_type": "execute_result"
        }
      ],
      "source": [
        "model2.metrics_names"
      ]
    },
    {
      "cell_type": "code",
      "execution_count": 91,
      "metadata": {
        "id": "28IfaCRpsl9d"
      },
      "outputs": [
        {
          "data": {
            "text/html": [
              "<div>\n",
              "<style scoped>\n",
              "    .dataframe tbody tr th:only-of-type {\n",
              "        vertical-align: middle;\n",
              "    }\n",
              "\n",
              "    .dataframe tbody tr th {\n",
              "        vertical-align: top;\n",
              "    }\n",
              "\n",
              "    .dataframe thead th {\n",
              "        text-align: right;\n",
              "    }\n",
              "</style>\n",
              "<table border=\"1\" class=\"dataframe\">\n",
              "  <thead>\n",
              "    <tr style=\"text-align: right;\">\n",
              "      <th></th>\n",
              "      <th>accuracy</th>\n",
              "      <th>loss</th>\n",
              "      <th>val_accuracy</th>\n",
              "      <th>val_loss</th>\n",
              "    </tr>\n",
              "  </thead>\n",
              "  <tbody>\n",
              "    <tr>\n",
              "      <th>0</th>\n",
              "      <td>0.510</td>\n",
              "      <td>0.752</td>\n",
              "      <td>0.500</td>\n",
              "      <td>0.693</td>\n",
              "    </tr>\n",
              "    <tr>\n",
              "      <th>1</th>\n",
              "      <td>0.521</td>\n",
              "      <td>0.696</td>\n",
              "      <td>0.500</td>\n",
              "      <td>0.692</td>\n",
              "    </tr>\n",
              "    <tr>\n",
              "      <th>2</th>\n",
              "      <td>0.520</td>\n",
              "      <td>0.693</td>\n",
              "      <td>0.565</td>\n",
              "      <td>0.693</td>\n",
              "    </tr>\n",
              "    <tr>\n",
              "      <th>3</th>\n",
              "      <td>0.538</td>\n",
              "      <td>0.690</td>\n",
              "      <td>0.562</td>\n",
              "      <td>0.692</td>\n",
              "    </tr>\n",
              "    <tr>\n",
              "      <th>4</th>\n",
              "      <td>0.879</td>\n",
              "      <td>0.313</td>\n",
              "      <td>0.935</td>\n",
              "      <td>0.187</td>\n",
              "    </tr>\n",
              "  </tbody>\n",
              "</table>\n",
              "</div>"
            ],
            "text/plain": [
              "   accuracy  loss  val_accuracy  val_loss\n",
              "0     0.510 0.752         0.500     0.693\n",
              "1     0.521 0.696         0.500     0.692\n",
              "2     0.520 0.693         0.565     0.693\n",
              "3     0.538 0.690         0.562     0.692\n",
              "4     0.879 0.313         0.935     0.187"
            ]
          },
          "execution_count": 91,
          "metadata": {},
          "output_type": "execute_result"
        }
      ],
      "source": [
        "summary = pd.DataFrame(model2.history.history)\n",
        "summary.head()"
      ]
    },
    {
      "cell_type": "code",
      "execution_count": 92,
      "metadata": {
        "id": "zyO6Cmv_sl9d"
      },
      "outputs": [
        {
          "data": {
            "image/png": "[encoded data removed]",
            "text/plain": [
              "<Figure size 1000x600 with 1 Axes>"
            ]
          },
          "metadata": {},
          "output_type": "display_data"
        }
      ],
      "source": [
        "summary[[\"loss\", \"val_loss\"]].plot()\n",
        "plt.show()"
      ]
    },
    {
      "cell_type": "code",
      "execution_count": 93,
      "metadata": {
        "id": "_D-FnA7Ksl9d"
      },
      "outputs": [
        {
          "data": {
            "image/png": "[encoded data removed]",
            "text/plain": [
              "<Figure size 1000x600 with 1 Axes>"
            ]
          },
          "metadata": {},
          "output_type": "display_data"
        }
      ],
      "source": [
        "summary[[\"accuracy\", \"val_accuracy\"]].plot()\n",
        "plt.show()"
      ]
    },
    {
      "cell_type": "markdown",
      "metadata": {
        "id": "F2bTLAvQsl9d"
      },
      "source": [
        "# Evaluation on Test Data"
      ]
    },
    {
      "cell_type": "code",
      "execution_count": 94,
      "metadata": {
        "id": "rKRt861Wsl9e"
      },
      "outputs": [
        {
          "name": "stdout",
          "output_type": "stream",
          "text": [
            "\u001b[1m82/82\u001b[0m \u001b[32m━━━━━━━━━━━━━━━━━━━━\u001b[0m\u001b[37m\u001b[0m \u001b[1m28s\u001b[0m 343ms/step - accuracy: 0.9491 - loss: 0.1286\n",
            "Test loss: 0.13973428308963776\n",
            "Test accuracy: 0.9526923298835754\n"
          ]
        }
      ],
      "source": [
        "score = model2.evaluate(test_image_gen)\n",
        "print(\"Test loss:\", score[0])\n",
        "print(\"Test accuracy:\", score[1])"
      ]
    },
    {
      "cell_type": "code",
      "execution_count": 95,
      "metadata": {
        "id": "kP3oobifsl9e"
      },
      "outputs": [
        {
          "name": "stdout",
          "output_type": "stream",
          "text": [
            "\u001b[1m82/82\u001b[0m \u001b[32m━━━━━━━━━━━━━━━━━━━━\u001b[0m\u001b[37m\u001b[0m \u001b[1m27s\u001b[0m 329ms/step\n"
          ]
        }
      ],
      "source": [
        "pred_prob = model2.predict(test_image_gen)"
      ]
    },
    {
      "cell_type": "code",
      "execution_count": 96,
      "metadata": {
        "id": "93Jub8WGsl9f"
      },
      "outputs": [],
      "source": [
        "y_pred = pred_prob > 0.5"
      ]
    },
    {
      "cell_type": "code",
      "execution_count": 97,
      "metadata": {
        "id": "sTWX-UTMsl9f"
      },
      "outputs": [
        {
          "name": "stdout",
          "output_type": "stream",
          "text": [
            "              precision    recall  f1-score   support\n",
            "\n",
            "           0       0.95      0.95      0.95      1300\n",
            "           1       0.95      0.95      0.95      1300\n",
            "\n",
            "    accuracy                           0.95      2600\n",
            "   macro avg       0.95      0.95      0.95      2600\n",
            "weighted avg       0.95      0.95      0.95      2600\n",
            "\n"
          ]
        }
      ],
      "source": [
        "print(classification_report(y_test, y_pred))"
      ]
    },
    {
      "cell_type": "code",
      "execution_count": 98,
      "metadata": {
        "id": "oUdsEhpJsl9g"
      },
      "outputs": [
        {
          "data": {
            "text/plain": [
              "array([[1236,   64],\n",
              "       [  59, 1241]])"
            ]
          },
          "execution_count": 98,
          "metadata": {},
          "output_type": "execute_result"
        }
      ],
      "source": [
        "confusion_matrix(y_test, y_pred)"
      ]
    },
    {
      "cell_type": "code",
      "execution_count": 117,
      "metadata": {
        "id": "WR3JOvQhsl9g"
      },
      "outputs": [],
      "source": [
        "model1.save(\"malaria_model.keras\")"
      ]
    },
    {
      "cell_type": "markdown",
      "metadata": {
        "id": "k17LqDfKsl9g"
      },
      "source": [
        "# Prediction"
      ]
    },
    {
      "cell_type": "code",
      "execution_count": 118,
      "metadata": {
        "id": "HMDO0Dgv194o"
      },
      "outputs": [],
      "source": [
        "from tensorflow.keras.models import load_model\n",
        "from tensorflow.keras.preprocessing import image"
      ]
    },
    {
      "cell_type": "code",
      "execution_count": 119,
      "metadata": {
        "id": "p4_7g3rEDiJ7"
      },
      "outputs": [
        {
          "name": "stderr",
          "output_type": "stream",
          "text": [
            "/opt/anaconda3/envs/tf/lib/python3.10/site-packages/keras/src/saving/saving_lib.py:757: UserWarning: Skipping variable loading for optimizer 'rmsprop', because it has 12 variables whereas the saved optimizer has 22 variables. \n",
            "  saveable.load_own_variables(weights_store.get(inner_path))\n"
          ]
        }
      ],
      "source": [
        "model = load_model(\"malaria_model.keras\")"
      ]
    },
    {
      "cell_type": "code",
      "execution_count": 120,
      "metadata": {
        "id": "PLkgTS3cGHTv"
      },
      "outputs": [
        {
          "data": {
            "text/plain": [
              "np.str_('parasitized')"
            ]
          },
          "execution_count": 120,
          "metadata": {},
          "output_type": "execute_result"
        }
      ],
      "source": [
        "target_class = random.choice(class_names)\n",
        "target_class"
      ]
    },
    {
      "cell_type": "code",
      "execution_count": 121,
      "metadata": {
        "id": "8paR170UBXzt"
      },
      "outputs": [
        {
          "data": {
            "text/plain": [
              "['C59P20thinF_IMG_20150803_113139_cell_58.png']"
            ]
          },
          "execution_count": 121,
          "metadata": {},
          "output_type": "execute_result"
        }
      ],
      "source": [
        "random_image = random.sample(os.listdir(os.path.join(test_path, target_class)), 1)\n",
        "random_image"
      ]
    },
    {
      "cell_type": "code",
      "execution_count": 122,
      "metadata": {
        "id": "oeLS4RgHCCm6"
      },
      "outputs": [
        {
          "data": {
            "text/plain": [
              "'cell_images/test/parasitized/C59P20thinF_IMG_20150803_113139_cell_58.png'"
            ]
          },
          "execution_count": 122,
          "metadata": {},
          "output_type": "execute_result"
        }
      ],
      "source": [
        "image_path = os.path.join(test_path, target_class, random_image[0])\n",
        "image_path"
      ]
    },
    {
      "cell_type": "code",
      "execution_count": 123,
      "metadata": {
        "id": "RCxuuqwOsl9h"
      },
      "outputs": [],
      "source": [
        "my_image = image.load_img(image_path, target_size=image_shape)"
      ]
    },
    {
      "cell_type": "code",
      "execution_count": 124,
      "metadata": {
        "id": "3GtFgC0gsl9h"
      },
      "outputs": [
        {
          "data": {
            "image/jpeg": "[encoded data removed]",
            "image/png": "[encoded data removed]",
            "text/plain": [
              "<PIL.PngImagePlugin.PngImageFile image mode=RGB size=130x130>"
            ]
          },
          "execution_count": 124,
          "metadata": {},
          "output_type": "execute_result"
        }
      ],
      "source": [
        "my_image"
      ]
    },
    {
      "cell_type": "code",
      "execution_count": 125,
      "metadata": {
        "id": "-wfKWRy55R_1"
      },
      "outputs": [
        {
          "data": {
            "text/plain": [
              "PIL.PngImagePlugin.PngImageFile"
            ]
          },
          "execution_count": 125,
          "metadata": {},
          "output_type": "execute_result"
        }
      ],
      "source": [
        "type(my_image)"
      ]
    },
    {
      "cell_type": "code",
      "execution_count": 126,
      "metadata": {
        "id": "Q9J8ngv-TVIV"
      },
      "outputs": [],
      "source": [
        "# my_image = np.array(my_image)\n",
        "my_image = image.img_to_array(my_image)"
      ]
    },
    {
      "cell_type": "code",
      "execution_count": 127,
      "metadata": {
        "id": "IJfZ-ILKsl9i"
      },
      "outputs": [
        {
          "data": {
            "text/plain": [
              "(130, 130, 3)"
            ]
          },
          "execution_count": 127,
          "metadata": {},
          "output_type": "execute_result"
        }
      ],
      "source": [
        "my_image.shape"
      ]
    },
    {
      "cell_type": "code",
      "execution_count": 128,
      "metadata": {
        "id": "n9-XbB8Rsl9i"
      },
      "outputs": [],
      "source": [
        "my_image = np.expand_dims(my_image, axis=0)"
      ]
    },
    {
      "cell_type": "code",
      "execution_count": 129,
      "metadata": {
        "id": "ZuV5DH_fsl9i"
      },
      "outputs": [
        {
          "data": {
            "text/plain": [
              "(1, 130, 130, 3)"
            ]
          },
          "execution_count": 129,
          "metadata": {},
          "output_type": "execute_result"
        }
      ],
      "source": [
        "my_image.shape"
      ]
    },
    {
      "cell_type": "code",
      "execution_count": 130,
      "metadata": {
        "id": "p5wQ4c6Zsl9i"
      },
      "outputs": [
        {
          "name": "stdout",
          "output_type": "stream",
          "text": [
            "WARNING:tensorflow:5 out of the last 85 calls to <function TensorFlowTrainer.make_predict_function.<locals>.one_step_on_data_distributed at 0x15b743760> triggered tf.function retracing. Tracing is expensive and the excessive number of tracings could be due to (1) creating @tf.function repeatedly in a loop, (2) passing tensors with different shapes, (3) passing Python objects instead of tensors. For (1), please define your @tf.function outside of the loop. For (2), @tf.function has reduce_retracing=True option that can avoid unnecessary retracing. For (3), please refer to https://www.tensorflow.org/guide/function#controlling_retracing and https://www.tensorflow.org/api_docs/python/tf/function for  more details.\n"
          ]
        },
        {
          "name": "stderr",
          "output_type": "stream",
          "text": [
            "2025-02-27 16:02:56.753852: E tensorflow/core/framework/node_def_util.cc:676] NodeDef mentions attribute use_unbounded_threadpool which is not in the op definition: Op<name=MapDataset; signature=input_dataset:variant, other_arguments: -> handle:variant; attr=f:func; attr=Targuments:list(type),min=0; attr=output_types:list(type),min=1; attr=output_shapes:list(shape),min=1; attr=use_inter_op_parallelism:bool,default=true; attr=preserve_cardinality:bool,default=false; attr=force_synchronous:bool,default=false; attr=metadata:string,default=\"\"> This may be expected if your graph generating binary is newer  than this binary. Unknown attributes will be ignored. NodeDef: {{node ParallelMapDatasetV2/_14}}\n",
            "2025-02-27 16:02:56.754178: E tensorflow/core/framework/node_def_util.cc:676] NodeDef mentions attribute use_unbounded_threadpool which is not in the op definition: Op<name=MapDataset; signature=input_dataset:variant, other_arguments: -> handle:variant; attr=f:func; attr=Targuments:list(type),min=0; attr=output_types:list(type),min=1; attr=output_shapes:list(shape),min=1; attr=use_inter_op_parallelism:bool,default=true; attr=preserve_cardinality:bool,default=false; attr=force_synchronous:bool,default=false; attr=metadata:string,default=\"\"> This may be expected if your graph generating binary is newer  than this binary. Unknown attributes will be ignored. NodeDef: {{node ParallelMapDatasetV2/_14}}\n",
            "WARNING:tensorflow:5 out of the last 85 calls to <function TensorFlowTrainer.make_predict_function.<locals>.one_step_on_data_distributed at 0x15b743760> triggered tf.function retracing. Tracing is expensive and the excessive number of tracings could be due to (1) creating @tf.function repeatedly in a loop, (2) passing tensors with different shapes, (3) passing Python objects instead of tensors. For (1), please define your @tf.function outside of the loop. For (2), @tf.function has reduce_retracing=True option that can avoid unnecessary retracing. For (3), please refer to https://www.tensorflow.org/guide/function#controlling_retracing and https://www.tensorflow.org/api_docs/python/tf/function for  more details.\n"
          ]
        },
        {
          "name": "stdout",
          "output_type": "stream",
          "text": [
            "\u001b[1m1/1\u001b[0m \u001b[32m━━━━━━━━━━━━━━━━━━━━\u001b[0m\u001b[37m\u001b[0m \u001b[1m0s\u001b[0m 41ms/step\n"
          ]
        },
        {
          "data": {
            "text/plain": [
              "array([[0.01562165]], dtype=float32)"
            ]
          },
          "execution_count": 130,
          "metadata": {},
          "output_type": "execute_result"
        }
      ],
      "source": [
        "model.predict(my_image)"
      ]
    },
    {
      "cell_type": "code",
      "execution_count": 131,
      "metadata": {
        "id": "ETuvfYOksl9i"
      },
      "outputs": [
        {
          "data": {
            "text/plain": [
              "{'parasitized': 0, 'uninfected': 1}"
            ]
          },
          "execution_count": 131,
          "metadata": {},
          "output_type": "execute_result"
        }
      ],
      "source": [
        "train_image_gen.class_indices"
      ]
    },
    {
      "cell_type": "code",
      "execution_count": 132,
      "metadata": {
        "id": "v9okpvkVD_aM"
      },
      "outputs": [],
      "source": [
        "def pred_and_plot(model, img_size):\n",
        "    \"\"\"\n",
        "    Imports an image located at filename, makes a prediction on it with\n",
        "    a trained model and plots the image with the predicted class as the title.\n",
        "    \"\"\"\n",
        "    # Import the target image and preprocess it\n",
        "    target_class = random.choice(class_names)\n",
        "    random_image = random.sample(os.listdir(os.path.join(test_path, target_class)), 1)\n",
        "    img_path = os.path.join(test_path, target_class, random_image[0])\n",
        "    img = image.load_img(img_path, target_size=img_size)\n",
        "    img = np.array(img)\n",
        "\n",
        "    # Make a prediction\n",
        "    pred = model.predict(np.expand_dims(img, axis=0))\n",
        "    print(\"prediction_probability: \", pred.max())\n",
        "\n",
        "    # Get the predicted class\n",
        "    if len(pred[0]) > 1:  # check for multi-class\n",
        "        pred_class = class_names[pred.argmax()]  # if more than one output, take the max\n",
        "    else:\n",
        "        pred_class = class_names[int(tf.round(pred)[0][0])]  # if only one output, round\n",
        "\n",
        "    # Plot the image and predicted class\n",
        "    plt.imshow(img)\n",
        "    plt.title(f\"Prediction: {pred_class}\")\n",
        "    plt.axis(False);"
      ]
    },
    {
      "cell_type": "code",
      "execution_count": 133,
      "metadata": {
        "id": "In7S6mq_HLvu"
      },
      "outputs": [
        {
          "name": "stdout",
          "output_type": "stream",
          "text": [
            "WARNING:tensorflow:6 out of the last 86 calls to <function TensorFlowTrainer.make_predict_function.<locals>.one_step_on_data_distributed at 0x15b743760> triggered tf.function retracing. Tracing is expensive and the excessive number of tracings could be due to (1) creating @tf.function repeatedly in a loop, (2) passing tensors with different shapes, (3) passing Python objects instead of tensors. For (1), please define your @tf.function outside of the loop. For (2), @tf.function has reduce_retracing=True option that can avoid unnecessary retracing. For (3), please refer to https://www.tensorflow.org/guide/function#controlling_retracing and https://www.tensorflow.org/api_docs/python/tf/function for  more details.\n"
          ]
        },
        {
          "name": "stderr",
          "output_type": "stream",
          "text": [
            "WARNING:tensorflow:6 out of the last 86 calls to <function TensorFlowTrainer.make_predict_function.<locals>.one_step_on_data_distributed at 0x15b743760> triggered tf.function retracing. Tracing is expensive and the excessive number of tracings could be due to (1) creating @tf.function repeatedly in a loop, (2) passing tensors with different shapes, (3) passing Python objects instead of tensors. For (1), please define your @tf.function outside of the loop. For (2), @tf.function has reduce_retracing=True option that can avoid unnecessary retracing. For (3), please refer to https://www.tensorflow.org/guide/function#controlling_retracing and https://www.tensorflow.org/api_docs/python/tf/function for  more details.\n"
          ]
        },
        {
          "name": "stdout",
          "output_type": "stream",
          "text": [
            "\u001b[1m1/1\u001b[0m \u001b[32m━━━━━━━━━━━━━━━━━━━━\u001b[0m\u001b[37m\u001b[0m \u001b[1m0s\u001b[0m 34ms/step\n",
            "prediction_probability:  0.00849468\n"
          ]
        },
        {
          "data": {
            "image/png": "[encoded data removed]",
            "text/plain": [
              "<Figure size 1000x600 with 1 Axes>"
            ]
          },
          "metadata": {},
          "output_type": "display_data"
        }
      ],
      "source": [
        "pred_and_plot(model, (130, 130))"
      ]
    },
    {
      "cell_type": "markdown",
      "metadata": {
        "id": "bQL6IJEAsl9j"
      },
      "source": [
        "___\n",
        "\n",
        "<p style=\"text-align: center;\"><img src=\"https://docs.google.com/uc?id=1lY0Uj5R04yMY3-ZppPWxqCr5pvBLYPnV\" class=\"img-fluid\" alt=\"CLRSWY\"></p>\n",
        "\n",
        "___"
      ]
    }
  ],
  "metadata": {
    "accelerator": "GPU",
    "colab": {
      "gpuType": "T4",
      "provenance": []
    },
    "kernelspec": {
      "display_name": "tf",
      "language": "python",
      "name": "python3"
    },
    "language_info": {
      "codemirror_mode": {
        "name": "ipython",
        "version": 3
      },
      "file_extension": ".py",
      "mimetype": "text/x-python",
      "name": "python",
      "nbconvert_exporter": "python",
      "pygments_lexer": "ipython3",
      "version": "3.10.16"
    },
    "toc": {
      "base_numbering": 1,
      "nav_menu": {},
      "number_sections": false,
      "sideBar": true,
      "skip_h1_title": false,
      "title_cell": "Table of Contents",
      "title_sidebar": "Contents",
      "toc_cell": false,
      "toc_position": {},
      "toc_section_display": true,
      "toc_window_display": true
    }
  },
  "nbformat": 4,
  "nbformat_minor": 0
}
